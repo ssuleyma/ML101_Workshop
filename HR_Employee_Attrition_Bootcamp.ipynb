{
 "cells": [
  {
   "cell_type": "markdown",
   "metadata": {
    "slideshow": {
     "slide_type": "slide"
    }
   },
   "source": [
    "# Practical Machine Learning with Python\n",
    "\n",
    "## Agenda\n",
    "\n",
    "1. Introduction to Machine Learning\n",
    "    - What is Machine Learning?\n",
    "    - How to do Machine Learning?\n",
    "\n",
    "2. Hands-on Workshop\n",
    "    - Predicting Employee Attrition use case\n",
    "        - Notebooks\n"
   ]
  },
  {
   "cell_type": "markdown",
   "metadata": {
    "slideshow": {
     "slide_type": "slide"
    }
   },
   "source": [
    "# What is Machine Learning?\n",
    "![ML](https://ibm.box.com/shared/static/7ah4wdg9cur8orm6dcwrsep816pdvigy.png)\n",
    "\n"
   ]
  },
  {
   "cell_type": "markdown",
   "metadata": {
    "slideshow": {
     "slide_type": "subslide"
    }
   },
   "source": [
    "## What is the difference between conventional programming and machine learning?"
   ]
  },
  {
   "cell_type": "markdown",
   "metadata": {
    "slideshow": {
     "slide_type": "fragment"
    }
   },
   "source": [
    "Brain exercise: If you were given a task to write a program to determinate if a given string is a valid email address or not, how would you approach the problem?"
   ]
  },
  {
   "cell_type": "markdown",
   "metadata": {
    "slideshow": {
     "slide_type": "subslide"
    }
   },
   "source": [
    "![Rule](https://ibm.box.com/shared/static/6cb4qfoegt4sxo5j0swfc5l58x5apoke.png)"
   ]
  },
  {
   "cell_type": "markdown",
   "metadata": {
    "slideshow": {
     "slide_type": "fragment"
    }
   },
   "source": [
    "![ML](https://ibm.box.com/shared/static/4526ns06fyjiysz33o07syuj20d1zbs5.png)"
   ]
  },
  {
   "cell_type": "markdown",
   "metadata": {
    "slideshow": {
     "slide_type": "fragment"
    }
   },
   "source": [
    "![DL](https://ibm.box.com/shared/static/rz94quty92fl7ingnkavpvkv0br2mr5n.png)"
   ]
  },
  {
   "cell_type": "markdown",
   "metadata": {
    "slideshow": {
     "slide_type": "skip"
    }
   },
   "source": [
    "## Different Types of Machine Learning\n",
    "![AI](https://miro.medium.com/max/899/1*9Eu_-DDMZ_bP_t94_MMEYA.png)"
   ]
  },
  {
   "cell_type": "markdown",
   "metadata": {
    "slideshow": {
     "slide_type": "skip"
    }
   },
   "source": [
    "#### Why is Machine Learning achieving a lot of success over the last few years?\n",
    "\n",
    "- Availability of Big Data\n",
    "- Modern algorithms + more data = better performance\n",
    "- Supercomputing power to process this Big Data\n"
   ]
  },
  {
   "cell_type": "markdown",
   "metadata": {
    "slideshow": {
     "slide_type": "slide"
    }
   },
   "source": [
    "# How to do Machine Learning?"
   ]
  },
  {
   "cell_type": "markdown",
   "metadata": {
    "slideshow": {
     "slide_type": "slide"
    }
   },
   "source": [
    "## ML Workflow\n",
    "![Workflow](https://ibm.box.com/shared/static/vrocgtj81vzbym3plxrkynmntlg7jmgv.png)\n"
   ]
  },
  {
   "cell_type": "markdown",
   "metadata": {
    "slideshow": {
     "slide_type": "slide"
    }
   },
   "source": [
    "## Key Elements of ML Success\n",
    "\n",
    "![Success](https://ibm.box.com/shared/static/pt7n246a1zaepap9lfi01b22ef4xkncs.jpg)\n"
   ]
  },
  {
   "cell_type": "markdown",
   "metadata": {
    "slideshow": {
     "slide_type": "slide"
    }
   },
   "source": [
    "<h1>What We Will Practice Today?</h1>"
   ]
  },
  {
   "cell_type": "markdown",
   "metadata": {},
   "source": [
    "<a name='top'></a>\n",
    "<h2>Table of Contents</h2>\n",
    "\n",
    "- <a href=#pythonbasics>Python Basics</a>\n",
    "- <a href=#numpanda>Numpy and Pandas</a>\n",
    "- <a href=#libs> 1. Libraries and Helper Functions </a>\n",
    "- <a href=#getdata> 2. Loading Dataset</a>\n",
    "- <a href=#dataexplore>3. Exploratory Data Analysis</a>\n",
    "- <a href=#Featureeng>4. Feature Engineering</a>\n",
    "- <a href=#Featureselec>5. Feature Selection</a>\n",
    "- <a href=#modeling>6. Modeling</a>\n",
    "- <a href=#modeleval>7. Model Evaluation</a>\n",
    "- <a href=#inference>8. Inference and Conclusions</a>"
   ]
  },
  {
   "cell_type": "markdown",
   "metadata": {
    "slideshow": {
     "slide_type": "subslide"
    }
   },
   "source": [
    "# Jupyter Shortcuts <br>\n",
    "- **shift + enter** - run cell, select below.<br>\n",
    "- **ctrl + enter** - run cell.<br>\n",
    "- **option + enter** - run cell, insert below.<br>\n",
    "- **a** - insert cell above.<br>\n",
    "- **b** - insert cell below.<br>\n",
    "- **c** - copy cell.<br>\n",
    "- **v** - paste cell.<br>\n",
    "- **dd** - delete selected cell.<br>\n",
    "- **m** - markdown\n",
    "- **Enter** - go into Edit Mode\n",
    "- **ii** - interrupt kernel\n",
    "- **oo** - restart kernel\n",
    "- **shift+tab** within braces - help on parameters "
   ]
  },
  {
   "cell_type": "markdown",
   "metadata": {
    "slideshow": {
     "slide_type": "slide"
    }
   },
   "source": [
    "<h1> Why Python? </h1>\n",
    "<img src=\"https://ibm.box.com/shared/static/bm12badb0gfzo6b8gob46haxtysazhkf.png\" style=\"width:800px;height:400px;\" align=\"right\"/>\n",
    "- **Multipurpose**: General purpose language\n",
    "- **Simplicity**: Elegant and readable code\n",
    "- **Support**: Large open source community\n",
    "- **Libraries**: Popular for Data Science"
   ]
  },
  {
   "cell_type": "markdown",
   "metadata": {
    "slideshow": {
     "slide_type": "slide"
    }
   },
   "source": [
    "<a id=\"pythonbasics\"></a>\n",
    "# Python Basics"
   ]
  },
  {
   "cell_type": "markdown",
   "metadata": {
    "slideshow": {
     "slide_type": "subslide"
    }
   },
   "source": [
    "### Your first Hello World! program\n",
    "\n",
    "In Python the indentation is very important and it is used to indicate a block of code."
   ]
  },
  {
   "cell_type": "code",
   "execution_count": 1,
   "metadata": {
    "slideshow": {
     "slide_type": "fragment"
    }
   },
   "outputs": [
    {
     "name": "stdout",
     "output_type": "stream",
     "text": [
      "Hello to the World of Machine Learning\n"
     ]
    }
   ],
   "source": [
    "print(\"Hello to the World of Machine Learning\")"
   ]
  },
  {
   "cell_type": "markdown",
   "metadata": {
    "slideshow": {
     "slide_type": "subslide"
    }
   },
   "source": [
    "### Comments\n",
    "Hasgtag is used for single line comment and triple quotes are used for multiple line comment."
   ]
  },
  {
   "cell_type": "code",
   "execution_count": 2,
   "metadata": {
    "slideshow": {
     "slide_type": "fragment"
    }
   },
   "outputs": [
    {
     "data": {
      "text/plain": [
       "' Comment \\n'"
      ]
     },
     "execution_count": 2,
     "metadata": {},
     "output_type": "execute_result"
    }
   ],
   "source": [
    "# single line comment\n",
    "\n",
    "\"\"\" Comment \n",
    "\"\"\""
   ]
  },
  {
   "cell_type": "markdown",
   "metadata": {
    "slideshow": {
     "slide_type": "subslide"
    }
   },
   "source": [
    "### Variables\n",
    "To declare a variable in Python you just need to assign a value to it.\n",
    "Variables do not need to be declared with any particular type and can even change type after they have been set. Rules for variables:\n",
    "- A variable name can only contain alpha-numeric characters and underscores (A-z, 0-9, and _ )\n",
    "- A variable name cannot start with a number\n",
    "- Variable names are case-sensitive (age, Age and AGE are three different variables)"
   ]
  },
  {
   "cell_type": "code",
   "execution_count": 3,
   "metadata": {
    "slideshow": {
     "slide_type": "fragment"
    }
   },
   "outputs": [
    {
     "name": "stdout",
     "output_type": "stream",
     "text": [
      "hello world of Machine Learning\n",
      "hi\n"
     ]
    }
   ],
   "source": [
    "var ='hello world of Machine Learning'\n",
    "VAR = \"hi\"\n",
    "print(var)\n",
    "print(VAR)"
   ]
  },
  {
   "cell_type": "code",
   "execution_count": 4,
   "metadata": {
    "slideshow": {
     "slide_type": "fragment"
    }
   },
   "outputs": [
    {
     "name": "stdout",
     "output_type": "stream",
     "text": [
      "<class 'int'>\n",
      "<class 'float'>\n",
      "<class 'str'>\n",
      "<class 'bool'>\n",
      "<class 'str'>\n"
     ]
    }
   ],
   "source": [
    "print(type(12))\n",
    "print(type(2.14))\n",
    "print(type(\"Hello Python 101\"))\n",
    "print(type(True))\n",
    "print(type(var))"
   ]
  },
  {
   "cell_type": "markdown",
   "metadata": {
    "slideshow": {
     "slide_type": "subslide"
    }
   },
   "source": [
    "Sometimes you may want to specify a type on to a variable. This can be done with casting using constructor functions like **int()**, **str()**, **float()**."
   ]
  },
  {
   "cell_type": "code",
   "execution_count": 5,
   "metadata": {
    "slideshow": {
     "slide_type": "fragment"
    }
   },
   "outputs": [
    {
     "name": "stdout",
     "output_type": "stream",
     "text": [
      "<class 'int'>\n",
      "<class 'str'>\n"
     ]
    },
    {
     "data": {
      "text/plain": [
       "Decimal('2.67499999999999982236431605997495353221893310546875')"
      ]
     },
     "execution_count": 5,
     "metadata": {},
     "output_type": "execute_result"
    }
   ],
   "source": [
    "print(type(int(1.1)))\n",
    "print(type(str(1)))\n",
    "\n",
    "# from packagename import class_name\n",
    "from decimal import Decimal    \n",
    "Decimal(2.675)"
   ]
  },
  {
   "cell_type": "markdown",
   "metadata": {
    "slideshow": {
     "slide_type": "subslide"
    }
   },
   "source": [
    "### Arithmetic operators\n",
    "- **+** is addition: x+y\n",
    "- **-** is subtraction: x-y\n",
    "- **/** is division: x/y\n",
    "- **//** is floor division: x//y\n",
    "- ***** is multiplication: x*y\n",
    "- **%** is modulus: x%y"
   ]
  },
  {
   "cell_type": "code",
   "execution_count": 6,
   "metadata": {
    "slideshow": {
     "slide_type": "fragment"
    }
   },
   "outputs": [
    {
     "data": {
      "text/plain": [
       "2.3666666666666667"
      ]
     },
     "execution_count": 6,
     "metadata": {},
     "output_type": "execute_result"
    }
   ],
   "source": [
    "total_hr = (43 + 42 + 57) / 60  # get total hours in a single expression\n",
    "total_hr"
   ]
  },
  {
   "cell_type": "markdown",
   "metadata": {
    "slideshow": {
     "slide_type": "subslide"
    }
   },
   "source": [
    "### Comparison operators\n",
    "Use to compare two values. It returns boolean i.e **True** or **False**.\n",
    "- **==** is equal: x==y\n",
    "- **!=** is not equal: x!=y\n",
    "- **>** is greater than: x>y\n",
    "- **<** is less than: x<y\n",
    "- **>=** is greater than or equal to: x>=y\n",
    "- **<=** is less than or equal to: x<=y"
   ]
  },
  {
   "cell_type": "code",
   "execution_count": 7,
   "metadata": {
    "slideshow": {
     "slide_type": "fragment"
    }
   },
   "outputs": [
    {
     "name": "stdout",
     "output_type": "stream",
     "text": [
      "False\n",
      "True\n",
      "False\n",
      "True\n",
      "True\n"
     ]
    }
   ],
   "source": [
    "print(3 > 5)\n",
    "print(3 == 3)\n",
    "print(3 == \"3\") # strings and integers are not equal, different data types\n",
    "print(\"ABC\"<\"abc\") # comparison operators are case sensitive lower-case > upper-case\n",
    "print(\"A\" < \"z\") # smallest char is capital A, largest char is lower-case z"
   ]
  },
  {
   "cell_type": "markdown",
   "metadata": {
    "slideshow": {
     "slide_type": "subslide"
    }
   },
   "source": [
    "### Strings\n",
    "Strings are surrounded either by double or by single quotation marks. \n",
    "The first character has the position 0. Use square brackets to access <i>elements of the string</i> i.e. <i>substrings</i>.\n",
    "<br>\n",
    "<img src=\"https://qph.fs.quoracdn.net/main-qimg-a380b1bc159589df5e0b9842e5b56b6d\"/>"
   ]
  },
  {
   "cell_type": "code",
   "execution_count": 8,
   "metadata": {
    "slideshow": {
     "slide_type": "fragment"
    }
   },
   "outputs": [
    {
     "name": "stdout",
     "output_type": "stream",
     "text": [
      "o\n",
      "n\n",
      "Mich\n",
      "kson\n",
      "noskcaJ leahciM\n"
     ]
    }
   ],
   "source": [
    "Name= \"Michael Jackson\"\n",
    "print(Name[13])# character at 13th position\n",
    "print(Name[-1])# last character\n",
    "print(Name[0:4])# from 0 to 4 for index, last value excluded 0-3.\n",
    "print(Name[-4:]) # last 4 character of str\n",
    "print(Name[::-1])# reverse string"
   ]
  },
  {
   "cell_type": "markdown",
   "metadata": {
    "slideshow": {
     "slide_type": "subslide"
    }
   },
   "source": [
    "Strings have different methods:\n",
    "- The **upper()** method returns the string in upper case.\n",
    "- The **lower()** method returns the string in lower case.\n",
    "- The **len()** method returns the length of a string.\n",
    "- The **strip()** method removes any whitespace from the beginning or the end.\n",
    "- The **replace()** method replaces a string with another string."
   ]
  },
  {
   "cell_type": "code",
   "execution_count": 9,
   "metadata": {
    "slideshow": {
     "slide_type": "fragment"
    }
   },
   "outputs": [
    {
     "name": "stdout",
     "output_type": "stream",
     "text": [
      "Before upper: Thriller is the sixth studio album\n",
      "After upper: THRILLER IS THE SIXTH STUDIO ALBUM\n",
      "String A is: Michael Jackson is the best\n",
      "String B is: Janet Jackson is the best\n",
      "27\n",
      "5\n"
     ]
    }
   ],
   "source": [
    "A=\"Thriller is the sixth studio album\"\n",
    "print(\"Before upper:\",A)\n",
    "B=A.upper()\n",
    "print(\"After upper:\",B)\n",
    "\n",
    "A=\"Michael Jackson is the best\"\n",
    "B=A.replace('Michael', 'Janet')\n",
    "print(\"String A is:\", A)\n",
    "print(\"String B is:\", B)\n",
    "\n",
    "print(len(A))\n",
    "print(len(\"hello\"))"
   ]
  },
  {
   "cell_type": "markdown",
   "metadata": {
    "slideshow": {
     "slide_type": "subslide"
    }
   },
   "source": [
    "### Functions\n",
    "- In Python a function is defined using the **def** keyword followed by the function name parameters inside the parentheses.\n",
    "- A function may or may not have parameters.\n",
    "- To call a function, use the function name followed by parenthesis.\n",
    "- To let a function return a value, use the **return** statement."
   ]
  },
  {
   "cell_type": "code",
   "execution_count": 10,
   "metadata": {
    "slideshow": {
     "slide_type": "fragment"
    }
   },
   "outputs": [
    {
     "name": "stdout",
     "output_type": "stream",
     "text": [
      "Oldie\n"
     ]
    }
   ],
   "source": [
    "def type_of_album(artist,album,year_released):\n",
    "    if year_released > 1980:\n",
    "        #print(artist,album,year_released)\n",
    "        return \"Modern\"\n",
    "    else:\n",
    "        #print(artist,album,year_released)\n",
    "        return \"Oldie\"\n",
    "    \n",
    "x = type_of_album(\"Michael Jackson\",\"Thriller\",1980)\n",
    "print(x)"
   ]
  },
  {
   "cell_type": "markdown",
   "metadata": {
    "slideshow": {
     "slide_type": "skip"
    }
   },
   "source": [
    "<a name='numpanda' />\n",
    "<a href=#top>Back to Top</a>"
   ]
  },
  {
   "cell_type": "markdown",
   "metadata": {
    "slideshow": {
     "slide_type": "slide"
    }
   },
   "source": [
    "# NumPy and Pandas<br>\n",
    "<strong>NumPy</strong> <br>\n",
    "- Open source library.\n",
    "- Working with high-performance arrays and matrices.<br>\n",
    "- Mathematical operations are vectorized.<br>\n",
    "- Main object is ndarray.<br>\n",
    "- Heavy computations (3+ dimension).<br>\n",
    "- Arrays are accessed by their integer position, starting with zero for the first element.<br>\n",
    "\n",
    "<strong>Pandas</strong> <br>\n",
    "- A package built around Numpy for data manipulation that uses the DataFrame objects.<br>\n",
    "- Series is the primary building block of panda.s<br>\n",
    "- Series Object is more flexible as you can use define your own labeled index and access elements of an array.<br>\n",
    "- Aligning data from different Series and matching labels (Joining) with Series objects is more efficient. For example dealing with missing values. If there are no matching labels during alignment, pandas returns NaN (not any number) so that the operation does not fail.<br>"
   ]
  },
  {
   "cell_type": "markdown",
   "metadata": {
    "slideshow": {
     "slide_type": "skip"
    }
   },
   "source": [
    "<strong>Note</strong>\n",
    "- Query-like operations work better in pandas as it has relational database concept.\n",
    "- Data manupulination is easier in pandas.\n",
    "- NumPy consumes less memory compared to pandas.\n",
    "- NumPy generally performs better than pandas for 50K rows or less.\n",
    "- Pandas generally performs better than numpy for 500K rows or more.\n",
    "- For 50K to 500K rows, it is a toss up between pandas and numpy depending on the kind of operation."
   ]
  },
  {
   "cell_type": "code",
   "execution_count": 11,
   "metadata": {
    "slideshow": {
     "slide_type": "subslide"
    }
   },
   "outputs": [
    {
     "data": {
      "text/plain": [
       "array([1, 2, 3, 4, 5])"
      ]
     },
     "execution_count": 11,
     "metadata": {},
     "output_type": "execute_result"
    }
   ],
   "source": [
    "# To use libraries in Python first we must import them\n",
    "import numpy as np\n",
    "# Define a NumPy array\n",
    "a1 = np.array([1, 2, 3, 4, 5])\n",
    "a1"
   ]
  },
  {
   "cell_type": "code",
   "execution_count": 12,
   "metadata": {
    "slideshow": {
     "slide_type": "fragment"
    }
   },
   "outputs": [
    {
     "name": "stdout",
     "output_type": "stream",
     "text": [
      "3.0\n",
      "15\n"
     ]
    }
   ],
   "source": [
    "# Vectorized mathematical operations in NumPy\n",
    "print(np.mean(a1))\n",
    "print(np.sum(a1))"
   ]
  },
  {
   "cell_type": "code",
   "execution_count": 13,
   "metadata": {
    "slideshow": {
     "slide_type": "subslide"
    }
   },
   "outputs": [],
   "source": [
    "# Loading the data\n",
    "import pandas as pd\n",
    "csv_path='https://ibm.box.com/shared/static/keo2qz0bvh4iu6gf5qjq4vdrkt67bvvb.csv'\n",
    "df = pd.read_csv(csv_path)"
   ]
  },
  {
   "cell_type": "code",
   "execution_count": 14,
   "metadata": {
    "slideshow": {
     "slide_type": "fragment"
    }
   },
   "outputs": [
    {
     "data": {
      "text/html": [
       "<div>\n",
       "<style scoped>\n",
       "    .dataframe tbody tr th:only-of-type {\n",
       "        vertical-align: middle;\n",
       "    }\n",
       "\n",
       "    .dataframe tbody tr th {\n",
       "        vertical-align: top;\n",
       "    }\n",
       "\n",
       "    .dataframe thead th {\n",
       "        text-align: right;\n",
       "    }\n",
       "</style>\n",
       "<table border=\"1\" class=\"dataframe\">\n",
       "  <thead>\n",
       "    <tr style=\"text-align: right;\">\n",
       "      <th></th>\n",
       "      <th>Artist</th>\n",
       "      <th>Album</th>\n",
       "      <th>Released</th>\n",
       "      <th>Length</th>\n",
       "      <th>Genre</th>\n",
       "      <th>Music Recording Sales (millions)</th>\n",
       "      <th>Claimed Sales (millions)</th>\n",
       "      <th>Released.1</th>\n",
       "      <th>Soundtrack</th>\n",
       "      <th>Rating</th>\n",
       "    </tr>\n",
       "  </thead>\n",
       "  <tbody>\n",
       "    <tr>\n",
       "      <th>0</th>\n",
       "      <td>Michael Jackson</td>\n",
       "      <td>Thriller</td>\n",
       "      <td>1982</td>\n",
       "      <td>0:42:19</td>\n",
       "      <td>pop, rock, R&amp;B</td>\n",
       "      <td>46.0</td>\n",
       "      <td>65</td>\n",
       "      <td>30-Nov-82</td>\n",
       "      <td>NaN</td>\n",
       "      <td>10.0</td>\n",
       "    </tr>\n",
       "    <tr>\n",
       "      <th>1</th>\n",
       "      <td>AC/DC</td>\n",
       "      <td>Back in Black</td>\n",
       "      <td>1980</td>\n",
       "      <td>0:42:11</td>\n",
       "      <td>hard rock</td>\n",
       "      <td>26.1</td>\n",
       "      <td>50</td>\n",
       "      <td>25-Jul-80</td>\n",
       "      <td>NaN</td>\n",
       "      <td>9.5</td>\n",
       "    </tr>\n",
       "    <tr>\n",
       "      <th>2</th>\n",
       "      <td>Pink Floyd</td>\n",
       "      <td>The Dark Side of the Moon</td>\n",
       "      <td>1973</td>\n",
       "      <td>0:42:49</td>\n",
       "      <td>progressive rock</td>\n",
       "      <td>24.2</td>\n",
       "      <td>45</td>\n",
       "      <td>01-Mar-73</td>\n",
       "      <td>NaN</td>\n",
       "      <td>9.0</td>\n",
       "    </tr>\n",
       "  </tbody>\n",
       "</table>\n",
       "</div>"
      ],
      "text/plain": [
       "            Artist                      Album  Released   Length  \\\n",
       "0  Michael Jackson                   Thriller      1982  0:42:19   \n",
       "1            AC/DC              Back in Black      1980  0:42:11   \n",
       "2       Pink Floyd  The Dark Side of the Moon      1973  0:42:49   \n",
       "\n",
       "              Genre  Music Recording Sales (millions)  \\\n",
       "0    pop, rock, R&B                              46.0   \n",
       "1         hard rock                              26.1   \n",
       "2  progressive rock                              24.2   \n",
       "\n",
       "   Claimed Sales (millions) Released.1 Soundtrack  Rating  \n",
       "0                        65  30-Nov-82        NaN    10.0  \n",
       "1                        50  25-Jul-80        NaN     9.5  \n",
       "2                        45  01-Mar-73        NaN     9.0  "
      ]
     },
     "execution_count": 14,
     "metadata": {},
     "output_type": "execute_result"
    }
   ],
   "source": [
    "# Display first 3 rows/observations; default is 5\n",
    "df.head(3)"
   ]
  },
  {
   "cell_type": "code",
   "execution_count": 15,
   "metadata": {
    "slideshow": {
     "slide_type": "fragment"
    }
   },
   "outputs": [
    {
     "data": {
      "text/html": [
       "<div>\n",
       "<style scoped>\n",
       "    .dataframe tbody tr th:only-of-type {\n",
       "        vertical-align: middle;\n",
       "    }\n",
       "\n",
       "    .dataframe tbody tr th {\n",
       "        vertical-align: top;\n",
       "    }\n",
       "\n",
       "    .dataframe thead th {\n",
       "        text-align: right;\n",
       "    }\n",
       "</style>\n",
       "<table border=\"1\" class=\"dataframe\">\n",
       "  <thead>\n",
       "    <tr style=\"text-align: right;\">\n",
       "      <th></th>\n",
       "      <th>Artist</th>\n",
       "      <th>Album</th>\n",
       "      <th>Released</th>\n",
       "      <th>Length</th>\n",
       "      <th>Genre</th>\n",
       "      <th>Music Recording Sales (millions)</th>\n",
       "      <th>Claimed Sales (millions)</th>\n",
       "      <th>Released.1</th>\n",
       "      <th>Soundtrack</th>\n",
       "      <th>Rating</th>\n",
       "    </tr>\n",
       "  </thead>\n",
       "  <tbody>\n",
       "    <tr>\n",
       "      <th>3</th>\n",
       "      <td>Whitney Houston</td>\n",
       "      <td>The Bodyguard</td>\n",
       "      <td>1992</td>\n",
       "      <td>0:57:44</td>\n",
       "      <td>R&amp;B, soul, pop</td>\n",
       "      <td>27.4</td>\n",
       "      <td>44</td>\n",
       "      <td>17-Nov-92</td>\n",
       "      <td>Y</td>\n",
       "      <td>8.5</td>\n",
       "    </tr>\n",
       "    <tr>\n",
       "      <th>4</th>\n",
       "      <td>Meat Loaf</td>\n",
       "      <td>Bat Out of Hell</td>\n",
       "      <td>1977</td>\n",
       "      <td>0:46:33</td>\n",
       "      <td>hard rock, progressive rock</td>\n",
       "      <td>20.6</td>\n",
       "      <td>43</td>\n",
       "      <td>21-Oct-77</td>\n",
       "      <td>NaN</td>\n",
       "      <td>8.0</td>\n",
       "    </tr>\n",
       "    <tr>\n",
       "      <th>5</th>\n",
       "      <td>Eagles</td>\n",
       "      <td>Their Greatest Hits (1971-1975)</td>\n",
       "      <td>1976</td>\n",
       "      <td>0:43:08</td>\n",
       "      <td>rock, soft rock, folk rock</td>\n",
       "      <td>32.2</td>\n",
       "      <td>42</td>\n",
       "      <td>17-Feb-76</td>\n",
       "      <td>NaN</td>\n",
       "      <td>7.5</td>\n",
       "    </tr>\n",
       "    <tr>\n",
       "      <th>6</th>\n",
       "      <td>Bee Gees</td>\n",
       "      <td>Saturday Night Fever</td>\n",
       "      <td>1977</td>\n",
       "      <td>1:15:54</td>\n",
       "      <td>disco</td>\n",
       "      <td>20.6</td>\n",
       "      <td>40</td>\n",
       "      <td>15-Nov-77</td>\n",
       "      <td>Y</td>\n",
       "      <td>7.0</td>\n",
       "    </tr>\n",
       "    <tr>\n",
       "      <th>7</th>\n",
       "      <td>Fleetwood Mac</td>\n",
       "      <td>Rumours</td>\n",
       "      <td>1977</td>\n",
       "      <td>0:40:01</td>\n",
       "      <td>soft rock</td>\n",
       "      <td>27.9</td>\n",
       "      <td>40</td>\n",
       "      <td>04-Feb-77</td>\n",
       "      <td>NaN</td>\n",
       "      <td>6.5</td>\n",
       "    </tr>\n",
       "  </tbody>\n",
       "</table>\n",
       "</div>"
      ],
      "text/plain": [
       "            Artist                            Album  Released   Length  \\\n",
       "3  Whitney Houston                    The Bodyguard      1992  0:57:44   \n",
       "4        Meat Loaf                  Bat Out of Hell      1977  0:46:33   \n",
       "5           Eagles  Their Greatest Hits (1971-1975)      1976  0:43:08   \n",
       "6         Bee Gees             Saturday Night Fever      1977  1:15:54   \n",
       "7    Fleetwood Mac                          Rumours      1977  0:40:01   \n",
       "\n",
       "                         Genre  Music Recording Sales (millions)  \\\n",
       "3               R&B, soul, pop                              27.4   \n",
       "4  hard rock, progressive rock                              20.6   \n",
       "5   rock, soft rock, folk rock                              32.2   \n",
       "6                        disco                              20.6   \n",
       "7                    soft rock                              27.9   \n",
       "\n",
       "   Claimed Sales (millions) Released.1 Soundtrack  Rating  \n",
       "3                        44  17-Nov-92          Y     8.5  \n",
       "4                        43  21-Oct-77        NaN     8.0  \n",
       "5                        42  17-Feb-76        NaN     7.5  \n",
       "6                        40  15-Nov-77          Y     7.0  \n",
       "7                        40  04-Feb-77        NaN     6.5  "
      ]
     },
     "execution_count": 15,
     "metadata": {},
     "output_type": "execute_result"
    }
   ],
   "source": [
    "# Display last 5 rows/observations\n",
    "df.tail() "
   ]
  },
  {
   "cell_type": "code",
   "execution_count": 16,
   "metadata": {
    "slideshow": {
     "slide_type": "subslide"
    }
   },
   "outputs": [
    {
     "data": {
      "text/plain": [
       "Index(['Artist', 'Album', 'Released', 'Length', 'Genre',\n",
       "       'Music Recording Sales (millions)', 'Claimed Sales (millions)',\n",
       "       'Released.1', 'Soundtrack', 'Rating'],\n",
       "      dtype='object')"
      ]
     },
     "execution_count": 16,
     "metadata": {},
     "output_type": "execute_result"
    }
   ],
   "source": [
    "# Columns\n",
    "df.columns"
   ]
  },
  {
   "cell_type": "code",
   "execution_count": 17,
   "metadata": {
    "slideshow": {
     "slide_type": "fragment"
    }
   },
   "outputs": [
    {
     "data": {
      "text/plain": [
       "Artist                               object\n",
       "Album                                object\n",
       "Released                              int64\n",
       "Length                               object\n",
       "Genre                                object\n",
       "Music Recording Sales (millions)    float64\n",
       "Claimed Sales (millions)              int64\n",
       "Released.1                           object\n",
       "Soundtrack                           object\n",
       "Rating                              float64\n",
       "dtype: object"
      ]
     },
     "execution_count": 17,
     "metadata": {},
     "output_type": "execute_result"
    }
   ],
   "source": [
    "# Column data types\n",
    "df.dtypes"
   ]
  },
  {
   "cell_type": "code",
   "execution_count": 18,
   "metadata": {
    "slideshow": {
     "slide_type": "subslide"
    }
   },
   "outputs": [
    {
     "name": "stdout",
     "output_type": "stream",
     "text": [
      "<class 'pandas.core.frame.DataFrame'>\n",
      "RangeIndex: 8 entries, 0 to 7\n",
      "Data columns (total 10 columns):\n",
      " #   Column                            Non-Null Count  Dtype  \n",
      "---  ------                            --------------  -----  \n",
      " 0   Artist                            8 non-null      object \n",
      " 1   Album                             8 non-null      object \n",
      " 2   Released                          8 non-null      int64  \n",
      " 3   Length                            8 non-null      object \n",
      " 4   Genre                             8 non-null      object \n",
      " 5   Music Recording Sales (millions)  8 non-null      float64\n",
      " 6   Claimed Sales (millions)          8 non-null      int64  \n",
      " 7   Released.1                        8 non-null      object \n",
      " 8   Soundtrack                        2 non-null      object \n",
      " 9   Rating                            8 non-null      float64\n",
      "dtypes: float64(2), int64(2), object(6)\n",
      "memory usage: 768.0+ bytes\n"
     ]
    },
    {
     "data": {
      "text/plain": [
       "(8, 10)"
      ]
     },
     "execution_count": 18,
     "metadata": {},
     "output_type": "execute_result"
    }
   ],
   "source": [
    "# Shows data type and number of non-null observations per column\n",
    "df.info()\n",
    "# The size of the data (number of rows, number of columns)\n",
    "df.shape"
   ]
  },
  {
   "cell_type": "code",
   "execution_count": 19,
   "metadata": {
    "slideshow": {
     "slide_type": "fragment"
    }
   },
   "outputs": [
    {
     "name": "stdout",
     "output_type": "stream",
     "text": [
      "There are 10 features/columns and 8 rows/observations.\n"
     ]
    }
   ],
   "source": [
    "print(\"There are {} features/columns and {} rows/observations.\".format(df.shape[1],df.shape[0]))"
   ]
  },
  {
   "cell_type": "code",
   "execution_count": 20,
   "metadata": {
    "slideshow": {
     "slide_type": "subslide"
    }
   },
   "outputs": [
    {
     "data": {
      "text/plain": [
       "6"
      ]
     },
     "execution_count": 20,
     "metadata": {},
     "output_type": "execute_result"
    }
   ],
   "source": [
    "# Number of unique values\n",
    "df['Released'].nunique()"
   ]
  },
  {
   "cell_type": "code",
   "execution_count": 21,
   "metadata": {
    "slideshow": {
     "slide_type": "fragment"
    }
   },
   "outputs": [
    {
     "data": {
      "text/plain": [
       "array([1982, 1980, 1973, 1992, 1977, 1976])"
      ]
     },
     "execution_count": 21,
     "metadata": {},
     "output_type": "execute_result"
    }
   ],
   "source": [
    "# Unique values\n",
    "df['Released'].unique()"
   ]
  },
  {
   "cell_type": "code",
   "execution_count": 22,
   "metadata": {
    "slideshow": {
     "slide_type": "fragment"
    }
   },
   "outputs": [
    {
     "data": {
      "text/plain": [
       "1977    3\n",
       "1976    1\n",
       "1982    1\n",
       "1973    1\n",
       "1980    1\n",
       "1992    1\n",
       "Name: Released, dtype: int64"
      ]
     },
     "execution_count": 22,
     "metadata": {},
     "output_type": "execute_result"
    }
   ],
   "source": [
    "# Unique values and their counts\n",
    "df['Released'].value_counts()"
   ]
  },
  {
   "cell_type": "code",
   "execution_count": 23,
   "metadata": {
    "slideshow": {
     "slide_type": "subslide"
    }
   },
   "outputs": [
    {
     "data": {
      "text/plain": [
       "0    Michael Jackson\n",
       "1              AC/DC\n",
       "2         Pink Floyd\n",
       "3    Whitney Houston\n",
       "4          Meat Loaf\n",
       "5             Eagles\n",
       "6           Bee Gees\n",
       "7      Fleetwood Mac\n",
       "Name: Artist, dtype: object"
      ]
     },
     "execution_count": 23,
     "metadata": {},
     "output_type": "execute_result"
    }
   ],
   "source": [
    "# Select column 'Artist'\n",
    "x = df['Artist']\n",
    "x"
   ]
  },
  {
   "cell_type": "code",
   "execution_count": 24,
   "metadata": {
    "slideshow": {
     "slide_type": "fragment"
    }
   },
   "outputs": [
    {
     "data": {
      "text/html": [
       "<div>\n",
       "<style scoped>\n",
       "    .dataframe tbody tr th:only-of-type {\n",
       "        vertical-align: middle;\n",
       "    }\n",
       "\n",
       "    .dataframe tbody tr th {\n",
       "        vertical-align: top;\n",
       "    }\n",
       "\n",
       "    .dataframe thead th {\n",
       "        text-align: right;\n",
       "    }\n",
       "</style>\n",
       "<table border=\"1\" class=\"dataframe\">\n",
       "  <thead>\n",
       "    <tr style=\"text-align: right;\">\n",
       "      <th></th>\n",
       "      <th>Artist</th>\n",
       "      <th>Length</th>\n",
       "      <th>Genre</th>\n",
       "    </tr>\n",
       "  </thead>\n",
       "  <tbody>\n",
       "    <tr>\n",
       "      <th>0</th>\n",
       "      <td>Michael Jackson</td>\n",
       "      <td>0:42:19</td>\n",
       "      <td>pop, rock, R&amp;B</td>\n",
       "    </tr>\n",
       "    <tr>\n",
       "      <th>1</th>\n",
       "      <td>AC/DC</td>\n",
       "      <td>0:42:11</td>\n",
       "      <td>hard rock</td>\n",
       "    </tr>\n",
       "    <tr>\n",
       "      <th>2</th>\n",
       "      <td>Pink Floyd</td>\n",
       "      <td>0:42:49</td>\n",
       "      <td>progressive rock</td>\n",
       "    </tr>\n",
       "    <tr>\n",
       "      <th>3</th>\n",
       "      <td>Whitney Houston</td>\n",
       "      <td>0:57:44</td>\n",
       "      <td>R&amp;B, soul, pop</td>\n",
       "    </tr>\n",
       "    <tr>\n",
       "      <th>4</th>\n",
       "      <td>Meat Loaf</td>\n",
       "      <td>0:46:33</td>\n",
       "      <td>hard rock, progressive rock</td>\n",
       "    </tr>\n",
       "    <tr>\n",
       "      <th>5</th>\n",
       "      <td>Eagles</td>\n",
       "      <td>0:43:08</td>\n",
       "      <td>rock, soft rock, folk rock</td>\n",
       "    </tr>\n",
       "    <tr>\n",
       "      <th>6</th>\n",
       "      <td>Bee Gees</td>\n",
       "      <td>1:15:54</td>\n",
       "      <td>disco</td>\n",
       "    </tr>\n",
       "    <tr>\n",
       "      <th>7</th>\n",
       "      <td>Fleetwood Mac</td>\n",
       "      <td>0:40:01</td>\n",
       "      <td>soft rock</td>\n",
       "    </tr>\n",
       "  </tbody>\n",
       "</table>\n",
       "</div>"
      ],
      "text/plain": [
       "            Artist   Length                        Genre\n",
       "0  Michael Jackson  0:42:19               pop, rock, R&B\n",
       "1            AC/DC  0:42:11                    hard rock\n",
       "2       Pink Floyd  0:42:49             progressive rock\n",
       "3  Whitney Houston  0:57:44               R&B, soul, pop\n",
       "4        Meat Loaf  0:46:33  hard rock, progressive rock\n",
       "5           Eagles  0:43:08   rock, soft rock, folk rock\n",
       "6         Bee Gees  1:15:54                        disco\n",
       "7    Fleetwood Mac  0:40:01                    soft rock"
      ]
     },
     "execution_count": 24,
     "metadata": {},
     "output_type": "execute_result"
    }
   ],
   "source": [
    "# Select columns 'Artist','Length','Genre' and create new dataframe x\n",
    "x = df[['Artist','Length','Genre']]\n",
    "x"
   ]
  },
  {
   "cell_type": "code",
   "execution_count": 25,
   "metadata": {
    "slideshow": {
     "slide_type": "subslide"
    }
   },
   "outputs": [
    {
     "name": "stdout",
     "output_type": "stream",
     "text": [
      "Michael Jackson\n",
      "AC/DC\n"
     ]
    }
   ],
   "source": [
    "# Slice df\n",
    "print(df.iloc[0,0]) # 1st row and first column\n",
    "print(df.iloc[1,0]) # 2nd row and first column"
   ]
  },
  {
   "cell_type": "code",
   "execution_count": 26,
   "metadata": {
    "slideshow": {
     "slide_type": "fragment"
    }
   },
   "outputs": [
    {
     "data": {
      "text/html": [
       "<div>\n",
       "<style scoped>\n",
       "    .dataframe tbody tr th:only-of-type {\n",
       "        vertical-align: middle;\n",
       "    }\n",
       "\n",
       "    .dataframe tbody tr th {\n",
       "        vertical-align: top;\n",
       "    }\n",
       "\n",
       "    .dataframe thead th {\n",
       "        text-align: right;\n",
       "    }\n",
       "</style>\n",
       "<table border=\"1\" class=\"dataframe\">\n",
       "  <thead>\n",
       "    <tr style=\"text-align: right;\">\n",
       "      <th></th>\n",
       "      <th>Artist</th>\n",
       "      <th>Album</th>\n",
       "      <th>Released</th>\n",
       "    </tr>\n",
       "  </thead>\n",
       "  <tbody>\n",
       "    <tr>\n",
       "      <th>0</th>\n",
       "      <td>Michael Jackson</td>\n",
       "      <td>Thriller</td>\n",
       "      <td>1982</td>\n",
       "    </tr>\n",
       "    <tr>\n",
       "      <th>1</th>\n",
       "      <td>AC/DC</td>\n",
       "      <td>Back in Black</td>\n",
       "      <td>1980</td>\n",
       "    </tr>\n",
       "    <tr>\n",
       "      <th>2</th>\n",
       "      <td>Pink Floyd</td>\n",
       "      <td>The Dark Side of the Moon</td>\n",
       "      <td>1973</td>\n",
       "    </tr>\n",
       "  </tbody>\n",
       "</table>\n",
       "</div>"
      ],
      "text/plain": [
       "            Artist                      Album  Released\n",
       "0  Michael Jackson                   Thriller      1982\n",
       "1            AC/DC              Back in Black      1980\n",
       "2       Pink Floyd  The Dark Side of the Moon      1973"
      ]
     },
     "execution_count": 26,
     "metadata": {},
     "output_type": "execute_result"
    }
   ],
   "source": [
    "# Slice df\n",
    "df.iloc[0:3, 0:3] # last index is exclusive"
   ]
  },
  {
   "cell_type": "code",
   "execution_count": 27,
   "metadata": {
    "slideshow": {
     "slide_type": "fragment"
    }
   },
   "outputs": [],
   "source": [
    "# Set index to column with unique values\n",
    "df.set_index(\"Album\", inplace=True)"
   ]
  },
  {
   "cell_type": "code",
   "execution_count": 28,
   "metadata": {
    "slideshow": {
     "slide_type": "subslide"
    }
   },
   "outputs": [
    {
     "data": {
      "text/plain": [
       "Artist                              Michael Jackson\n",
       "Released                                       1982\n",
       "Length                                      0:42:19\n",
       "Genre                                pop, rock, R&B\n",
       "Music Recording Sales (millions)                 46\n",
       "Claimed Sales (millions)                         65\n",
       "Released.1                                30-Nov-82\n",
       "Soundtrack                                      NaN\n",
       "Rating                                           10\n",
       "Name: Thriller, dtype: object"
      ]
     },
     "execution_count": 28,
     "metadata": {},
     "output_type": "execute_result"
    }
   ],
   "source": [
    "# Filtering using loc\n",
    "a=df.loc['Thriller']\n",
    "a"
   ]
  },
  {
   "cell_type": "code",
   "execution_count": 29,
   "metadata": {
    "slideshow": {
     "slide_type": "fragment"
    }
   },
   "outputs": [
    {
     "data": {
      "text/html": [
       "<div>\n",
       "<style scoped>\n",
       "    .dataframe tbody tr th:only-of-type {\n",
       "        vertical-align: middle;\n",
       "    }\n",
       "\n",
       "    .dataframe tbody tr th {\n",
       "        vertical-align: top;\n",
       "    }\n",
       "\n",
       "    .dataframe thead th {\n",
       "        text-align: right;\n",
       "    }\n",
       "</style>\n",
       "<table border=\"1\" class=\"dataframe\">\n",
       "  <thead>\n",
       "    <tr style=\"text-align: right;\">\n",
       "      <th></th>\n",
       "      <th>Artist</th>\n",
       "      <th>Released</th>\n",
       "      <th>Length</th>\n",
       "      <th>Genre</th>\n",
       "      <th>Music Recording Sales (millions)</th>\n",
       "      <th>Claimed Sales (millions)</th>\n",
       "      <th>Released.1</th>\n",
       "      <th>Soundtrack</th>\n",
       "      <th>Rating</th>\n",
       "    </tr>\n",
       "    <tr>\n",
       "      <th>Album</th>\n",
       "      <th></th>\n",
       "      <th></th>\n",
       "      <th></th>\n",
       "      <th></th>\n",
       "      <th></th>\n",
       "      <th></th>\n",
       "      <th></th>\n",
       "      <th></th>\n",
       "      <th></th>\n",
       "    </tr>\n",
       "  </thead>\n",
       "  <tbody>\n",
       "    <tr>\n",
       "      <th>Thriller</th>\n",
       "      <td>Michael Jackson</td>\n",
       "      <td>1982</td>\n",
       "      <td>0:42:19</td>\n",
       "      <td>pop, rock, R&amp;B</td>\n",
       "      <td>46.0</td>\n",
       "      <td>65</td>\n",
       "      <td>30-Nov-82</td>\n",
       "      <td>NaN</td>\n",
       "      <td>10.0</td>\n",
       "    </tr>\n",
       "    <tr>\n",
       "      <th>Back in Black</th>\n",
       "      <td>AC/DC</td>\n",
       "      <td>1980</td>\n",
       "      <td>0:42:11</td>\n",
       "      <td>hard rock</td>\n",
       "      <td>26.1</td>\n",
       "      <td>50</td>\n",
       "      <td>25-Jul-80</td>\n",
       "      <td>NaN</td>\n",
       "      <td>9.5</td>\n",
       "    </tr>\n",
       "  </tbody>\n",
       "</table>\n",
       "</div>"
      ],
      "text/plain": [
       "                        Artist  Released   Length           Genre  \\\n",
       "Album                                                               \n",
       "Thriller       Michael Jackson      1982  0:42:19  pop, rock, R&B   \n",
       "Back in Black            AC/DC      1980  0:42:11       hard rock   \n",
       "\n",
       "               Music Recording Sales (millions)  Claimed Sales (millions)  \\\n",
       "Album                                                                       \n",
       "Thriller                                   46.0                        65   \n",
       "Back in Black                              26.1                        50   \n",
       "\n",
       "              Released.1 Soundtrack  Rating  \n",
       "Album                                        \n",
       "Thriller       30-Nov-82        NaN    10.0  \n",
       "Back in Black  25-Jul-80        NaN     9.5  "
      ]
     },
     "execution_count": 29,
     "metadata": {},
     "output_type": "execute_result"
    }
   ],
   "source": [
    "# Filtering using loc\n",
    "b=df.loc[['Thriller','Back in Black']]\n",
    "b"
   ]
  },
  {
   "cell_type": "code",
   "execution_count": 30,
   "metadata": {
    "slideshow": {
     "slide_type": "fragment"
    }
   },
   "outputs": [
    {
     "data": {
      "text/html": [
       "<div>\n",
       "<style scoped>\n",
       "    .dataframe tbody tr th:only-of-type {\n",
       "        vertical-align: middle;\n",
       "    }\n",
       "\n",
       "    .dataframe tbody tr th {\n",
       "        vertical-align: top;\n",
       "    }\n",
       "\n",
       "    .dataframe thead th {\n",
       "        text-align: right;\n",
       "    }\n",
       "</style>\n",
       "<table border=\"1\" class=\"dataframe\">\n",
       "  <thead>\n",
       "    <tr style=\"text-align: right;\">\n",
       "      <th></th>\n",
       "      <th>Artist</th>\n",
       "      <th>Released</th>\n",
       "      <th>Length</th>\n",
       "      <th>Genre</th>\n",
       "      <th>Music Recording Sales (millions)</th>\n",
       "      <th>Claimed Sales (millions)</th>\n",
       "      <th>Released.1</th>\n",
       "      <th>Soundtrack</th>\n",
       "      <th>Rating</th>\n",
       "    </tr>\n",
       "    <tr>\n",
       "      <th>Album</th>\n",
       "      <th></th>\n",
       "      <th></th>\n",
       "      <th></th>\n",
       "      <th></th>\n",
       "      <th></th>\n",
       "      <th></th>\n",
       "      <th></th>\n",
       "      <th></th>\n",
       "      <th></th>\n",
       "    </tr>\n",
       "  </thead>\n",
       "  <tbody>\n",
       "    <tr>\n",
       "      <th>The Dark Side of the Moon</th>\n",
       "      <td>Pink Floyd</td>\n",
       "      <td>1973</td>\n",
       "      <td>0:42:49</td>\n",
       "      <td>progressive rock</td>\n",
       "      <td>24.2</td>\n",
       "      <td>45</td>\n",
       "      <td>01-Mar-73</td>\n",
       "      <td>NaN</td>\n",
       "      <td>9.0</td>\n",
       "    </tr>\n",
       "  </tbody>\n",
       "</table>\n",
       "</div>"
      ],
      "text/plain": [
       "                               Artist  Released   Length             Genre  \\\n",
       "Album                                                                        \n",
       "The Dark Side of the Moon  Pink Floyd      1973  0:42:49  progressive rock   \n",
       "\n",
       "                           Music Recording Sales (millions)  \\\n",
       "Album                                                         \n",
       "The Dark Side of the Moon                              24.2   \n",
       "\n",
       "                           Claimed Sales (millions) Released.1 Soundtrack  \\\n",
       "Album                                                                       \n",
       "The Dark Side of the Moon                        45  01-Mar-73        NaN   \n",
       "\n",
       "                           Rating  \n",
       "Album                              \n",
       "The Dark Side of the Moon     9.0  "
      ]
     },
     "execution_count": 30,
     "metadata": {},
     "output_type": "execute_result"
    }
   ],
   "source": [
    "# Conditional filtering\n",
    "c=df.loc[df['Artist']=='Pink Floyd']\n",
    "c"
   ]
  },
  {
   "cell_type": "code",
   "execution_count": 31,
   "metadata": {
    "slideshow": {
     "slide_type": "fragment"
    }
   },
   "outputs": [
    {
     "data": {
      "text/plain": [
       "pandas.core.frame.DataFrame"
      ]
     },
     "execution_count": 31,
     "metadata": {},
     "output_type": "execute_result"
    }
   ],
   "source": [
    "# Conditional filtering\n",
    "d=df.loc[df['Artist']=='Pink Floyd',['Genre']]\n",
    "type(d)"
   ]
  },
  {
   "cell_type": "code",
   "execution_count": 32,
   "metadata": {
    "slideshow": {
     "slide_type": "subslide"
    }
   },
   "outputs": [],
   "source": [
    "# Change observation value\n",
    "e=df.loc[df['Artist']=='Pink Floyd', \"Released\"] = \"1970\"\n",
    "df=df.reset_index()"
   ]
  },
  {
   "cell_type": "code",
   "execution_count": 33,
   "metadata": {
    "slideshow": {
     "slide_type": "fragment"
    }
   },
   "outputs": [
    {
     "data": {
      "text/html": [
       "<div>\n",
       "<style scoped>\n",
       "    .dataframe tbody tr th:only-of-type {\n",
       "        vertical-align: middle;\n",
       "    }\n",
       "\n",
       "    .dataframe tbody tr th {\n",
       "        vertical-align: top;\n",
       "    }\n",
       "\n",
       "    .dataframe thead th {\n",
       "        text-align: right;\n",
       "    }\n",
       "</style>\n",
       "<table border=\"1\" class=\"dataframe\">\n",
       "  <thead>\n",
       "    <tr style=\"text-align: right;\">\n",
       "      <th></th>\n",
       "      <th>Album</th>\n",
       "      <th>Artist</th>\n",
       "      <th>Released</th>\n",
       "      <th>Length</th>\n",
       "      <th>Genre</th>\n",
       "      <th>Music Recording Sales (millions)</th>\n",
       "      <th>Claimed Sales (millions)</th>\n",
       "      <th>Released.1</th>\n",
       "      <th>Soundtrack</th>\n",
       "      <th>Rating</th>\n",
       "    </tr>\n",
       "  </thead>\n",
       "  <tbody>\n",
       "    <tr>\n",
       "      <th>0</th>\n",
       "      <td>Thriller</td>\n",
       "      <td>Michael Jackson</td>\n",
       "      <td>1982</td>\n",
       "      <td>0:42:19</td>\n",
       "      <td>pop, rock, R&amp;B</td>\n",
       "      <td>46.0</td>\n",
       "      <td>65</td>\n",
       "      <td>30-Nov-82</td>\n",
       "      <td>NaN</td>\n",
       "      <td>10.0</td>\n",
       "    </tr>\n",
       "    <tr>\n",
       "      <th>1</th>\n",
       "      <td>Back in Black</td>\n",
       "      <td>AC/DC</td>\n",
       "      <td>1980</td>\n",
       "      <td>0:42:11</td>\n",
       "      <td>hard rock</td>\n",
       "      <td>26.1</td>\n",
       "      <td>50</td>\n",
       "      <td>25-Jul-80</td>\n",
       "      <td>NaN</td>\n",
       "      <td>9.5</td>\n",
       "    </tr>\n",
       "    <tr>\n",
       "      <th>2</th>\n",
       "      <td>The Dark Side of the Moon</td>\n",
       "      <td>Pink Floyd</td>\n",
       "      <td>1970</td>\n",
       "      <td>0:42:49</td>\n",
       "      <td>progressive rock</td>\n",
       "      <td>24.2</td>\n",
       "      <td>45</td>\n",
       "      <td>01-Mar-73</td>\n",
       "      <td>NaN</td>\n",
       "      <td>9.0</td>\n",
       "    </tr>\n",
       "    <tr>\n",
       "      <th>3</th>\n",
       "      <td>The Bodyguard</td>\n",
       "      <td>Whitney Houston</td>\n",
       "      <td>1992</td>\n",
       "      <td>0:57:44</td>\n",
       "      <td>R&amp;B, soul, pop</td>\n",
       "      <td>27.4</td>\n",
       "      <td>44</td>\n",
       "      <td>17-Nov-92</td>\n",
       "      <td>Y</td>\n",
       "      <td>8.5</td>\n",
       "    </tr>\n",
       "    <tr>\n",
       "      <th>4</th>\n",
       "      <td>Bat Out of Hell</td>\n",
       "      <td>Meat Loaf</td>\n",
       "      <td>1977</td>\n",
       "      <td>0:46:33</td>\n",
       "      <td>hard rock, progressive rock</td>\n",
       "      <td>20.6</td>\n",
       "      <td>43</td>\n",
       "      <td>21-Oct-77</td>\n",
       "      <td>NaN</td>\n",
       "      <td>8.0</td>\n",
       "    </tr>\n",
       "    <tr>\n",
       "      <th>5</th>\n",
       "      <td>Their Greatest Hits (1971-1975)</td>\n",
       "      <td>Eagles</td>\n",
       "      <td>1976</td>\n",
       "      <td>0:43:08</td>\n",
       "      <td>rock, soft rock, folk rock</td>\n",
       "      <td>32.2</td>\n",
       "      <td>42</td>\n",
       "      <td>17-Feb-76</td>\n",
       "      <td>NaN</td>\n",
       "      <td>7.5</td>\n",
       "    </tr>\n",
       "    <tr>\n",
       "      <th>6</th>\n",
       "      <td>Saturday Night Fever</td>\n",
       "      <td>Bee Gees</td>\n",
       "      <td>1977</td>\n",
       "      <td>1:15:54</td>\n",
       "      <td>disco</td>\n",
       "      <td>20.6</td>\n",
       "      <td>40</td>\n",
       "      <td>15-Nov-77</td>\n",
       "      <td>Y</td>\n",
       "      <td>7.0</td>\n",
       "    </tr>\n",
       "    <tr>\n",
       "      <th>7</th>\n",
       "      <td>Rumours</td>\n",
       "      <td>Fleetwood Mac</td>\n",
       "      <td>1977</td>\n",
       "      <td>0:40:01</td>\n",
       "      <td>soft rock</td>\n",
       "      <td>27.9</td>\n",
       "      <td>40</td>\n",
       "      <td>04-Feb-77</td>\n",
       "      <td>NaN</td>\n",
       "      <td>6.5</td>\n",
       "    </tr>\n",
       "  </tbody>\n",
       "</table>\n",
       "</div>"
      ],
      "text/plain": [
       "                             Album           Artist Released   Length  \\\n",
       "0                         Thriller  Michael Jackson     1982  0:42:19   \n",
       "1                    Back in Black            AC/DC     1980  0:42:11   \n",
       "2        The Dark Side of the Moon       Pink Floyd     1970  0:42:49   \n",
       "3                    The Bodyguard  Whitney Houston     1992  0:57:44   \n",
       "4                  Bat Out of Hell        Meat Loaf     1977  0:46:33   \n",
       "5  Their Greatest Hits (1971-1975)           Eagles     1976  0:43:08   \n",
       "6             Saturday Night Fever         Bee Gees     1977  1:15:54   \n",
       "7                          Rumours    Fleetwood Mac     1977  0:40:01   \n",
       "\n",
       "                         Genre  Music Recording Sales (millions)  \\\n",
       "0               pop, rock, R&B                              46.0   \n",
       "1                    hard rock                              26.1   \n",
       "2             progressive rock                              24.2   \n",
       "3               R&B, soul, pop                              27.4   \n",
       "4  hard rock, progressive rock                              20.6   \n",
       "5   rock, soft rock, folk rock                              32.2   \n",
       "6                        disco                              20.6   \n",
       "7                    soft rock                              27.9   \n",
       "\n",
       "   Claimed Sales (millions) Released.1 Soundtrack  Rating  \n",
       "0                        65  30-Nov-82        NaN    10.0  \n",
       "1                        50  25-Jul-80        NaN     9.5  \n",
       "2                        45  01-Mar-73        NaN     9.0  \n",
       "3                        44  17-Nov-92          Y     8.5  \n",
       "4                        43  21-Oct-77        NaN     8.0  \n",
       "5                        42  17-Feb-76        NaN     7.5  \n",
       "6                        40  15-Nov-77          Y     7.0  \n",
       "7                        40  04-Feb-77        NaN     6.5  "
      ]
     },
     "execution_count": 33,
     "metadata": {},
     "output_type": "execute_result"
    }
   ],
   "source": [
    "df"
   ]
  },
  {
   "cell_type": "code",
   "execution_count": 34,
   "metadata": {
    "slideshow": {
     "slide_type": "subslide"
    }
   },
   "outputs": [
    {
     "data": {
      "text/plain": [
       "Released\n",
       "1976     42\n",
       "1977    123\n",
       "1980     50\n",
       "1982     65\n",
       "1992     44\n",
       "1970     45\n",
       "Name: Claimed Sales (millions), dtype: int64"
      ]
     },
     "execution_count": 34,
     "metadata": {},
     "output_type": "execute_result"
    }
   ],
   "source": [
    "# Summarize information using groupby and arithmetic functions\n",
    "df.groupby(['Released'])['Claimed Sales (millions)'].sum()"
   ]
  },
  {
   "cell_type": "code",
   "execution_count": 35,
   "metadata": {
    "slideshow": {
     "slide_type": "subslide"
    }
   },
   "outputs": [
    {
     "data": {
      "text/html": [
       "<div>\n",
       "<style scoped>\n",
       "    .dataframe tbody tr th:only-of-type {\n",
       "        vertical-align: middle;\n",
       "    }\n",
       "\n",
       "    .dataframe tbody tr th {\n",
       "        vertical-align: top;\n",
       "    }\n",
       "\n",
       "    .dataframe thead th {\n",
       "        text-align: right;\n",
       "    }\n",
       "</style>\n",
       "<table border=\"1\" class=\"dataframe\">\n",
       "  <thead>\n",
       "    <tr style=\"text-align: right;\">\n",
       "      <th></th>\n",
       "      <th>Album</th>\n",
       "      <th>Artist</th>\n",
       "      <th>Released</th>\n",
       "      <th>Length</th>\n",
       "      <th>Genre</th>\n",
       "      <th>Music Recording Sales (millions)</th>\n",
       "      <th>Claimed Sales (millions)</th>\n",
       "      <th>Released.1</th>\n",
       "      <th>Soundtrack</th>\n",
       "      <th>Rating</th>\n",
       "    </tr>\n",
       "  </thead>\n",
       "  <tbody>\n",
       "    <tr>\n",
       "      <th>0</th>\n",
       "      <td>Thriller</td>\n",
       "      <td>Michael Jackson</td>\n",
       "      <td>1982</td>\n",
       "      <td>0:42:19</td>\n",
       "      <td>pop, rock, R&amp;B</td>\n",
       "      <td>46.0</td>\n",
       "      <td>65</td>\n",
       "      <td>30-Nov-82</td>\n",
       "      <td>NaN</td>\n",
       "      <td>10.0</td>\n",
       "    </tr>\n",
       "    <tr>\n",
       "      <th>1</th>\n",
       "      <td>Back in Black</td>\n",
       "      <td>AC/DC</td>\n",
       "      <td>1980</td>\n",
       "      <td>0:42:11</td>\n",
       "      <td>hard rock</td>\n",
       "      <td>26.1</td>\n",
       "      <td>50</td>\n",
       "      <td>25-Jul-80</td>\n",
       "      <td>NaN</td>\n",
       "      <td>9.5</td>\n",
       "    </tr>\n",
       "    <tr>\n",
       "      <th>2</th>\n",
       "      <td>The Dark Side of the Moon</td>\n",
       "      <td>Pink Floyd</td>\n",
       "      <td>1970</td>\n",
       "      <td>0:42:49</td>\n",
       "      <td>progressive rock</td>\n",
       "      <td>24.2</td>\n",
       "      <td>45</td>\n",
       "      <td>01-Mar-73</td>\n",
       "      <td>NaN</td>\n",
       "      <td>9.0</td>\n",
       "    </tr>\n",
       "    <tr>\n",
       "      <th>3</th>\n",
       "      <td>The Bodyguard</td>\n",
       "      <td>Whitney Houston</td>\n",
       "      <td>1992</td>\n",
       "      <td>0:57:44</td>\n",
       "      <td>R&amp;B, soul, pop</td>\n",
       "      <td>27.4</td>\n",
       "      <td>44</td>\n",
       "      <td>17-Nov-92</td>\n",
       "      <td>Y</td>\n",
       "      <td>8.5</td>\n",
       "    </tr>\n",
       "    <tr>\n",
       "      <th>4</th>\n",
       "      <td>Bat Out of Hell</td>\n",
       "      <td>Meat Loaf</td>\n",
       "      <td>1977</td>\n",
       "      <td>0:46:33</td>\n",
       "      <td>hard rock, progressive rock</td>\n",
       "      <td>20.6</td>\n",
       "      <td>43</td>\n",
       "      <td>21-Oct-77</td>\n",
       "      <td>NaN</td>\n",
       "      <td>8.0</td>\n",
       "    </tr>\n",
       "    <tr>\n",
       "      <th>5</th>\n",
       "      <td>Their Greatest Hits (1971-1975)</td>\n",
       "      <td>Eagles</td>\n",
       "      <td>1976</td>\n",
       "      <td>0:43:08</td>\n",
       "      <td>rock, soft rock, folk rock</td>\n",
       "      <td>32.2</td>\n",
       "      <td>42</td>\n",
       "      <td>17-Feb-76</td>\n",
       "      <td>NaN</td>\n",
       "      <td>7.5</td>\n",
       "    </tr>\n",
       "    <tr>\n",
       "      <th>6</th>\n",
       "      <td>Saturday Night Fever</td>\n",
       "      <td>Bee Gees</td>\n",
       "      <td>1977</td>\n",
       "      <td>1:15:54</td>\n",
       "      <td>disco</td>\n",
       "      <td>20.6</td>\n",
       "      <td>40</td>\n",
       "      <td>15-Nov-77</td>\n",
       "      <td>Y</td>\n",
       "      <td>7.0</td>\n",
       "    </tr>\n",
       "    <tr>\n",
       "      <th>7</th>\n",
       "      <td>Rumours</td>\n",
       "      <td>Fleetwood Mac</td>\n",
       "      <td>1977</td>\n",
       "      <td>0:40:01</td>\n",
       "      <td>soft rock</td>\n",
       "      <td>27.9</td>\n",
       "      <td>40</td>\n",
       "      <td>04-Feb-77</td>\n",
       "      <td>NaN</td>\n",
       "      <td>6.5</td>\n",
       "    </tr>\n",
       "  </tbody>\n",
       "</table>\n",
       "</div>"
      ],
      "text/plain": [
       "                             Album           Artist Released   Length  \\\n",
       "0                         Thriller  Michael Jackson     1982  0:42:19   \n",
       "1                    Back in Black            AC/DC     1980  0:42:11   \n",
       "2        The Dark Side of the Moon       Pink Floyd     1970  0:42:49   \n",
       "3                    The Bodyguard  Whitney Houston     1992  0:57:44   \n",
       "4                  Bat Out of Hell        Meat Loaf     1977  0:46:33   \n",
       "5  Their Greatest Hits (1971-1975)           Eagles     1976  0:43:08   \n",
       "6             Saturday Night Fever         Bee Gees     1977  1:15:54   \n",
       "7                          Rumours    Fleetwood Mac     1977  0:40:01   \n",
       "\n",
       "                         Genre  Music Recording Sales (millions)  \\\n",
       "0               pop, rock, R&B                              46.0   \n",
       "1                    hard rock                              26.1   \n",
       "2             progressive rock                              24.2   \n",
       "3               R&B, soul, pop                              27.4   \n",
       "4  hard rock, progressive rock                              20.6   \n",
       "5   rock, soft rock, folk rock                              32.2   \n",
       "6                        disco                              20.6   \n",
       "7                    soft rock                              27.9   \n",
       "\n",
       "   Claimed Sales (millions) Released.1 Soundtrack  Rating  \n",
       "0                        65  30-Nov-82        NaN    10.0  \n",
       "1                        50  25-Jul-80        NaN     9.5  \n",
       "2                        45  01-Mar-73        NaN     9.0  \n",
       "3                        44  17-Nov-92          Y     8.5  \n",
       "4                        43  21-Oct-77        NaN     8.0  \n",
       "5                        42  17-Feb-76        NaN     7.5  \n",
       "6                        40  15-Nov-77          Y     7.0  \n",
       "7                        40  04-Feb-77        NaN     6.5  "
      ]
     },
     "execution_count": 35,
     "metadata": {},
     "output_type": "execute_result"
    }
   ],
   "source": [
    "# Create a copy of a dataframe\n",
    "df1=df.copy()\n",
    "df1"
   ]
  },
  {
   "cell_type": "markdown",
   "metadata": {
    "slideshow": {
     "slide_type": "skip"
    }
   },
   "source": [
    "<a href=#top>Back to Top</a>"
   ]
  },
  {
   "cell_type": "markdown",
   "metadata": {},
   "source": [
    "<h1 style=\"color:blue\"><center> HR Analytics: Employee Churn Prediction </center></h1>"
   ]
  },
  {
   "cell_type": "markdown",
   "metadata": {},
   "source": [
    "Employee churn is a costly problem for companies. The true cost of replacing an employee\n",
    "can often be quite large. A study by the [Center for American Progress](https://www.americanprogress.org/wp-content/uploads/2012/11/CostofTurnover.pdf) found that companies typically pay about one-fifth of an employee’s salary to replace that employee, and the cost can significantly increase if executives or highest-paid employees are to be replaced. <br>\n",
    "\n",
    "In this study, we will attempt to solve the following problem statements: <br>\n",
    "> What is the likelihood of an active employee leaving the company? <br>\n",
    "What are the key indicators of an employee leaving the company? <br>\n",
    "What policies or strategies can be adopted based on the results to improve employee retention?\n",
    "\n",
    "Given that we have data on former employees, this is a standard **Supervised Classification Problem** where the label **Attrition** is a binary variable: Yes (former employee), No (active employee).<br>"
   ]
  },
  {
   "cell_type": "markdown",
   "metadata": {},
   "source": [
    "<a id=\"libs\"></a>\n",
    "# 1. Libraries and Helper Functions"
   ]
  },
  {
   "cell_type": "code",
   "execution_count": 36,
   "metadata": {},
   "outputs": [
    {
     "name": "stderr",
     "output_type": "stream",
     "text": [
      "<ipython-input-36-a3e55cdd50e7>:5: FutureWarning: Passing a negative integer is deprecated in version 1.0 and will not be supported in future version. Instead, use None to not limit the column width.\n",
      "  pd.pandas.set_option('display.max_colwidth', -1)\n"
     ]
    }
   ],
   "source": [
    "## Data Manipulation\n",
    "import numpy as np\n",
    "import pandas as pd\n",
    "pd.set_option('display.max_columns', 50)\n",
    "pd.pandas.set_option('display.max_colwidth', -1)\n",
    "\n",
    "## Plotting\n",
    "import matplotlib.pyplot as plt\n",
    "plt.rcParams['patch.force_edgecolor'] = True\n",
    "plt.style.use('ggplot')\n",
    "import seaborn as sns\n",
    "%matplotlib inline\n",
    "\n",
    "## Modeling\n",
    "from sklearn.preprocessing import MinMaxScaler\n",
    "from sklearn.model_selection import train_test_split\n",
    "from sklearn.linear_model import LogisticRegression\n",
    "from sklearn.tree import DecisionTreeClassifier\n",
    "from sklearn.ensemble import RandomForestClassifier\n",
    "from sklearn.svm import SVC\n",
    "\n",
    "from sklearn.model_selection import KFold\n",
    "from sklearn.model_selection import cross_val_score\n",
    "\n",
    "## Performance\n",
    "from sklearn.model_selection import GridSearchCV\n",
    "from sklearn.metrics import confusion_matrix, f1_score, roc_auc_score\n",
    "\n",
    "## Other \n",
    "import warnings\n",
    "warnings.filterwarnings('ignore')\n",
    "import math\n",
    "#!pip install termcolor\n",
    "from termcolor import colored"
   ]
  },
  {
   "cell_type": "code",
   "execution_count": 37,
   "metadata": {},
   "outputs": [],
   "source": [
    "def analyse_discrete(df, feats, target, plot_title=\"\",grid_width = 3):\n",
    "    \"\"\"Analyzes relationship between target and discrete features.\"\"\"\n",
    "    sns.set_style('darkgrid')\n",
    "    rows = math.ceil(len(feats)/grid_width)\n",
    "    figwidth = 10 * grid_width\n",
    "    figheight = 5 * rows\n",
    "    fig, ax = plt.subplots(nrows = rows, ncols = grid_width, figsize = (figwidth, figheight))\n",
    "    plt.subplots_adjust(wspace=0.3, hspace=0.3)\n",
    "    ax = ax.ravel() # ravel turns a matrix into a vector, so that it is easier to iterate\n",
    "    \n",
    "    df = df.copy()\n",
    "    for i, feat in enumerate(feats):\n",
    "        df_to_plot = df.loc[df[\"Attrition\"] == \"Yes\", feat].value_counts()/df[feat].value_counts()*100\n",
    "        df_annot = np.round(df_to_plot).values\n",
    "        \n",
    "        ax[i].bar(x=df_to_plot.index, height=df_to_plot.values, color = np.random.rand(3,))\n",
    "        ax[i].set_ylabel(f'{target}', fontsize=14)\n",
    "        ax[i].set_xlabel(f'{feat}', fontsize=14)\n",
    "        rects = ax[i].patches\n",
    "        for rect, label in zip(rects, df_annot):\n",
    "            height = rect.get_height()\n",
    "            ax[i].text(rect.get_x() + rect.get_width(), height, label, ha='center', va='bottom')\n",
    "    \n",
    "    for ax in fig.axes:\n",
    "        plt.sca(ax)\n",
    "        plt.xticks(rotation=10)\n",
    "            \n",
    "    fig.suptitle(f\"\\n{plot_title}\", size=25)\n",
    "    fig.tight_layout()\n",
    "    fig.subplots_adjust(bottom=0, top=0.88)\n",
    "    \n",
    "def impute_na(df, na_feats, method=\"median\"):\n",
    "    \"\"\"Imputes missing data.\"\"\"\n",
    "    df = df.copy()\n",
    "    if method == \"median\":\n",
    "        for f in na_feats:\n",
    "            median_val = df[f].median()\n",
    "            df[f] = df[f].fillna(median_val)\n",
    "    elif method == \"mode\":\n",
    "        for f in na_feats:\n",
    "            mode_val = df[f].mode()[0]\n",
    "            df[f] = df[f].fillna(mode_val)\n",
    "    elif method == \"mean\":\n",
    "        for f in na_feats:\n",
    "            mean_val = df[f].mean()\n",
    "            df[f] = df[f].fillna(mean_val)\n",
    "    return df\n",
    "\n",
    "def model_performance(clf, X_features, y_target, t=\"Training Set\"):\n",
    "    \"\"\"Provides information about the performance of classification model.\"\"\"\n",
    "    labels=[\"No\",\"Yes\"]\n",
    "    print(colored(t,\"blue\"))\n",
    "    predictions = clf.predict(X_features)\n",
    "    predictions_prob = clf.predict_proba(X_features)[:,1]\n",
    "    \n",
    "    auc_score = np.round(roc_auc_score(y_target,predictions_prob)*100, 2)\n",
    "    print(f\"ROC AUC Score: {auc_score}\")\n",
    "    f1_weighted = np.round(f1_score(y_target,predictions,pos_label=\"Yes\",average=\"weighted\")*100,2)\n",
    "    print(f\"Weighted Average Accuracy: {f1_weighted}\")\n",
    "    \n",
    "    plt.figure(figsize=(8,5))\n",
    "    cfmap = confusion_matrix(y_true=y_target,  \n",
    "                             y_pred=predictions)\n",
    "    \n",
    "    sns.heatmap(pd.DataFrame(cfmap), annot = True, xticklabels=labels, yticklabels=labels, \n",
    "                fmt='d', annot_kws={\"size\": 15})\n",
    "    plt.title(\"Confusion Matrix\")\n",
    "    plt.ylabel('Actual')\n",
    "    plt.xlabel('Predicted')"
   ]
  },
  {
   "cell_type": "markdown",
   "metadata": {},
   "source": [
    "<a href=#top>Back to Top</a>"
   ]
  },
  {
   "cell_type": "markdown",
   "metadata": {},
   "source": [
    "<a id=\"getdata\"></a>\n",
    "# 2. Loading Dataset"
   ]
  },
  {
   "cell_type": "markdown",
   "metadata": {},
   "source": [
    "In this case study, HR dataset was sourced from [IBM HR Analytics Employee Attrition & Performance](https://www.ibm.com/communities/analytics/watson-analytics-blog/hr-employee-attrition/) which contains employee data with various information about the employees. I will use this dataset to predict when employees are going to quit by understanding the main drivers of employee churn. <br>\n",
    "\n",
    "> As stated on the [IBM website](https://www.ibm.com/communities/analytics/watson-analytics-blog/hr-employee-attrition/) **\"This is a fictional data set created by IBM data scientists\"**. <br>"
   ]
  },
  {
   "cell_type": "code",
   "execution_count": 38,
   "metadata": {},
   "outputs": [],
   "source": [
    "# Loading data and displaying first 5 rows:\n",
    "csv_path = \"./data/HR-Employee-Attrition.csv\"\n",
    "data = pd.read_csv(csv_path)"
   ]
  },
  {
   "cell_type": "code",
   "execution_count": 39,
   "metadata": {},
   "outputs": [
    {
     "name": "stdout",
     "output_type": "stream",
     "text": [
      "\u001b[34mData shape:\u001b[0m (1470, 35).\n"
     ]
    },
    {
     "data": {
      "text/html": [
       "<div>\n",
       "<style scoped>\n",
       "    .dataframe tbody tr th:only-of-type {\n",
       "        vertical-align: middle;\n",
       "    }\n",
       "\n",
       "    .dataframe tbody tr th {\n",
       "        vertical-align: top;\n",
       "    }\n",
       "\n",
       "    .dataframe thead th {\n",
       "        text-align: right;\n",
       "    }\n",
       "</style>\n",
       "<table border=\"1\" class=\"dataframe\">\n",
       "  <thead>\n",
       "    <tr style=\"text-align: right;\">\n",
       "      <th></th>\n",
       "      <th>Age</th>\n",
       "      <th>Attrition</th>\n",
       "      <th>BusinessTravel</th>\n",
       "      <th>DailyRate</th>\n",
       "      <th>Department</th>\n",
       "      <th>DistanceFromHome</th>\n",
       "      <th>Education</th>\n",
       "      <th>EducationField</th>\n",
       "      <th>EmployeeCount</th>\n",
       "      <th>EmployeeNumber</th>\n",
       "      <th>EnvironmentSatisfaction</th>\n",
       "      <th>Gender</th>\n",
       "      <th>HourlyRate</th>\n",
       "      <th>JobInvolvement</th>\n",
       "      <th>JobLevel</th>\n",
       "      <th>JobRole</th>\n",
       "      <th>JobSatisfaction</th>\n",
       "      <th>MaritalStatus</th>\n",
       "      <th>MonthlyIncome</th>\n",
       "      <th>MonthlyRate</th>\n",
       "      <th>NumCompaniesWorked</th>\n",
       "      <th>Over18</th>\n",
       "      <th>OverTime</th>\n",
       "      <th>PercentSalaryHike</th>\n",
       "      <th>PerformanceRating</th>\n",
       "      <th>RelationshipSatisfaction</th>\n",
       "      <th>StandardHours</th>\n",
       "      <th>StockOptionLevel</th>\n",
       "      <th>TotalWorkingYears</th>\n",
       "      <th>TrainingTimesLastYear</th>\n",
       "      <th>WorkLifeBalance</th>\n",
       "      <th>YearsAtCompany</th>\n",
       "      <th>YearsInCurrentRole</th>\n",
       "      <th>YearsSinceLastPromotion</th>\n",
       "      <th>YearsWithCurrManager</th>\n",
       "    </tr>\n",
       "  </thead>\n",
       "  <tbody>\n",
       "    <tr>\n",
       "      <th>0</th>\n",
       "      <td>41</td>\n",
       "      <td>Yes</td>\n",
       "      <td>Travel_Rarely</td>\n",
       "      <td>1102</td>\n",
       "      <td>Sales</td>\n",
       "      <td>1</td>\n",
       "      <td>2</td>\n",
       "      <td>Life Sciences</td>\n",
       "      <td>1</td>\n",
       "      <td>1</td>\n",
       "      <td>2</td>\n",
       "      <td>Female</td>\n",
       "      <td>94</td>\n",
       "      <td>3</td>\n",
       "      <td>2</td>\n",
       "      <td>Sales Executive</td>\n",
       "      <td>4</td>\n",
       "      <td>Single</td>\n",
       "      <td>5993</td>\n",
       "      <td>19479</td>\n",
       "      <td>8</td>\n",
       "      <td>Y</td>\n",
       "      <td>Yes</td>\n",
       "      <td>11</td>\n",
       "      <td>3</td>\n",
       "      <td>1</td>\n",
       "      <td>80</td>\n",
       "      <td>0</td>\n",
       "      <td>8</td>\n",
       "      <td>0</td>\n",
       "      <td>1</td>\n",
       "      <td>6</td>\n",
       "      <td>4</td>\n",
       "      <td>0</td>\n",
       "      <td>5</td>\n",
       "    </tr>\n",
       "    <tr>\n",
       "      <th>1</th>\n",
       "      <td>49</td>\n",
       "      <td>No</td>\n",
       "      <td>Travel_Frequently</td>\n",
       "      <td>279</td>\n",
       "      <td>Research &amp; Development</td>\n",
       "      <td>8</td>\n",
       "      <td>1</td>\n",
       "      <td>Life Sciences</td>\n",
       "      <td>1</td>\n",
       "      <td>2</td>\n",
       "      <td>3</td>\n",
       "      <td>Male</td>\n",
       "      <td>61</td>\n",
       "      <td>2</td>\n",
       "      <td>2</td>\n",
       "      <td>Research Scientist</td>\n",
       "      <td>2</td>\n",
       "      <td>Married</td>\n",
       "      <td>5130</td>\n",
       "      <td>24907</td>\n",
       "      <td>1</td>\n",
       "      <td>Y</td>\n",
       "      <td>No</td>\n",
       "      <td>23</td>\n",
       "      <td>4</td>\n",
       "      <td>4</td>\n",
       "      <td>80</td>\n",
       "      <td>1</td>\n",
       "      <td>10</td>\n",
       "      <td>3</td>\n",
       "      <td>3</td>\n",
       "      <td>10</td>\n",
       "      <td>7</td>\n",
       "      <td>1</td>\n",
       "      <td>7</td>\n",
       "    </tr>\n",
       "    <tr>\n",
       "      <th>2</th>\n",
       "      <td>37</td>\n",
       "      <td>Yes</td>\n",
       "      <td>Travel_Rarely</td>\n",
       "      <td>1373</td>\n",
       "      <td>Research &amp; Development</td>\n",
       "      <td>2</td>\n",
       "      <td>2</td>\n",
       "      <td>Other</td>\n",
       "      <td>1</td>\n",
       "      <td>4</td>\n",
       "      <td>4</td>\n",
       "      <td>Male</td>\n",
       "      <td>92</td>\n",
       "      <td>2</td>\n",
       "      <td>1</td>\n",
       "      <td>Laboratory Technician</td>\n",
       "      <td>3</td>\n",
       "      <td>Single</td>\n",
       "      <td>2090</td>\n",
       "      <td>2396</td>\n",
       "      <td>6</td>\n",
       "      <td>Y</td>\n",
       "      <td>Yes</td>\n",
       "      <td>15</td>\n",
       "      <td>3</td>\n",
       "      <td>2</td>\n",
       "      <td>80</td>\n",
       "      <td>0</td>\n",
       "      <td>7</td>\n",
       "      <td>3</td>\n",
       "      <td>3</td>\n",
       "      <td>0</td>\n",
       "      <td>0</td>\n",
       "      <td>0</td>\n",
       "      <td>0</td>\n",
       "    </tr>\n",
       "    <tr>\n",
       "      <th>3</th>\n",
       "      <td>33</td>\n",
       "      <td>No</td>\n",
       "      <td>Travel_Frequently</td>\n",
       "      <td>1392</td>\n",
       "      <td>Research &amp; Development</td>\n",
       "      <td>3</td>\n",
       "      <td>4</td>\n",
       "      <td>Life Sciences</td>\n",
       "      <td>1</td>\n",
       "      <td>5</td>\n",
       "      <td>4</td>\n",
       "      <td>Female</td>\n",
       "      <td>56</td>\n",
       "      <td>3</td>\n",
       "      <td>1</td>\n",
       "      <td>Research Scientist</td>\n",
       "      <td>3</td>\n",
       "      <td>Married</td>\n",
       "      <td>2909</td>\n",
       "      <td>23159</td>\n",
       "      <td>1</td>\n",
       "      <td>Y</td>\n",
       "      <td>Yes</td>\n",
       "      <td>11</td>\n",
       "      <td>3</td>\n",
       "      <td>3</td>\n",
       "      <td>80</td>\n",
       "      <td>0</td>\n",
       "      <td>8</td>\n",
       "      <td>3</td>\n",
       "      <td>3</td>\n",
       "      <td>8</td>\n",
       "      <td>7</td>\n",
       "      <td>3</td>\n",
       "      <td>0</td>\n",
       "    </tr>\n",
       "    <tr>\n",
       "      <th>4</th>\n",
       "      <td>27</td>\n",
       "      <td>No</td>\n",
       "      <td>Travel_Rarely</td>\n",
       "      <td>591</td>\n",
       "      <td>Research &amp; Development</td>\n",
       "      <td>2</td>\n",
       "      <td>1</td>\n",
       "      <td>Medical</td>\n",
       "      <td>1</td>\n",
       "      <td>7</td>\n",
       "      <td>1</td>\n",
       "      <td>Male</td>\n",
       "      <td>40</td>\n",
       "      <td>3</td>\n",
       "      <td>1</td>\n",
       "      <td>Laboratory Technician</td>\n",
       "      <td>2</td>\n",
       "      <td>Married</td>\n",
       "      <td>3468</td>\n",
       "      <td>16632</td>\n",
       "      <td>9</td>\n",
       "      <td>Y</td>\n",
       "      <td>No</td>\n",
       "      <td>12</td>\n",
       "      <td>3</td>\n",
       "      <td>4</td>\n",
       "      <td>80</td>\n",
       "      <td>1</td>\n",
       "      <td>6</td>\n",
       "      <td>3</td>\n",
       "      <td>3</td>\n",
       "      <td>2</td>\n",
       "      <td>2</td>\n",
       "      <td>2</td>\n",
       "      <td>2</td>\n",
       "    </tr>\n",
       "  </tbody>\n",
       "</table>\n",
       "</div>"
      ],
      "text/plain": [
       "   Age Attrition     BusinessTravel  DailyRate              Department  \\\n",
       "0  41   Yes       Travel_Rarely      1102       Sales                    \n",
       "1  49   No        Travel_Frequently  279        Research & Development   \n",
       "2  37   Yes       Travel_Rarely      1373       Research & Development   \n",
       "3  33   No        Travel_Frequently  1392       Research & Development   \n",
       "4  27   No        Travel_Rarely      591        Research & Development   \n",
       "\n",
       "   DistanceFromHome  Education EducationField  EmployeeCount  EmployeeNumber  \\\n",
       "0  1                 2          Life Sciences  1              1                \n",
       "1  8                 1          Life Sciences  1              2                \n",
       "2  2                 2          Other          1              4                \n",
       "3  3                 4          Life Sciences  1              5                \n",
       "4  2                 1          Medical        1              7                \n",
       "\n",
       "   EnvironmentSatisfaction  Gender  HourlyRate  JobInvolvement  JobLevel  \\\n",
       "0  2                        Female  94          3               2          \n",
       "1  3                        Male    61          2               2          \n",
       "2  4                        Male    92          2               1          \n",
       "3  4                        Female  56          3               1          \n",
       "4  1                        Male    40          3               1          \n",
       "\n",
       "                 JobRole  JobSatisfaction MaritalStatus  MonthlyIncome  \\\n",
       "0  Sales Executive        4                Single        5993            \n",
       "1  Research Scientist     2                Married       5130            \n",
       "2  Laboratory Technician  3                Single        2090            \n",
       "3  Research Scientist     3                Married       2909            \n",
       "4  Laboratory Technician  2                Married       3468            \n",
       "\n",
       "   MonthlyRate  NumCompaniesWorked Over18 OverTime  PercentSalaryHike  \\\n",
       "0  19479        8                   Y      Yes      11                  \n",
       "1  24907        1                   Y      No       23                  \n",
       "2  2396         6                   Y      Yes      15                  \n",
       "3  23159        1                   Y      Yes      11                  \n",
       "4  16632        9                   Y      No       12                  \n",
       "\n",
       "   PerformanceRating  RelationshipSatisfaction  StandardHours  \\\n",
       "0  3                  1                         80              \n",
       "1  4                  4                         80              \n",
       "2  3                  2                         80              \n",
       "3  3                  3                         80              \n",
       "4  3                  4                         80              \n",
       "\n",
       "   StockOptionLevel  TotalWorkingYears  TrainingTimesLastYear  \\\n",
       "0  0                 8                  0                       \n",
       "1  1                 10                 3                       \n",
       "2  0                 7                  3                       \n",
       "3  0                 8                  3                       \n",
       "4  1                 6                  3                       \n",
       "\n",
       "   WorkLifeBalance  YearsAtCompany  YearsInCurrentRole  \\\n",
       "0  1                6               4                    \n",
       "1  3                10              7                    \n",
       "2  3                0               0                    \n",
       "3  3                8               7                    \n",
       "4  3                2               2                    \n",
       "\n",
       "   YearsSinceLastPromotion  YearsWithCurrManager  \n",
       "0  0                        5                     \n",
       "1  1                        7                     \n",
       "2  0                        0                     \n",
       "3  3                        0                     \n",
       "4  2                        2                     "
      ]
     },
     "execution_count": 39,
     "metadata": {},
     "output_type": "execute_result"
    }
   ],
   "source": [
    "print(colored(\"Data shape:\",\"blue\"),f\"{data.shape}.\")\n",
    "data.head(5)"
   ]
  },
  {
   "cell_type": "markdown",
   "metadata": {},
   "source": [
    "> The dataset contains 1470 rows (observations) and 35 columns. Each row is a record for an individual employee."
   ]
  },
  {
   "cell_type": "markdown",
   "metadata": {},
   "source": [
    "<a href=#top>Back to Top</a>"
   ]
  },
  {
   "cell_type": "markdown",
   "metadata": {},
   "source": [
    "<a id=\"dataexplore\"></a>\n",
    "# 3. Exploratory Data Analysis"
   ]
  },
  {
   "cell_type": "markdown",
   "metadata": {},
   "source": [
    "> **We will analyse the dataset to identify:**\n",
    "- Target variable\n",
    "- Features with missing values\n",
    "- Numerical variables: discrite & continuous and their distribution\n",
    "- Categorical variables\n",
    "- Potential relationship between the variables and the target: Attrition"
   ]
  },
  {
   "cell_type": "markdown",
   "metadata": {},
   "source": [
    "### Target Variable\n",
    ">Attrition indicates if the employee is currently active ('No') or has left the company ('Yes')"
   ]
  },
  {
   "cell_type": "code",
   "execution_count": 40,
   "metadata": {},
   "outputs": [
    {
     "data": {
      "text/plain": [
       "No     1233\n",
       "Yes    237 \n",
       "Name: Attrition, dtype: int64"
      ]
     },
     "execution_count": 40,
     "metadata": {},
     "output_type": "execute_result"
    }
   ],
   "source": [
    "data['Attrition'].value_counts()"
   ]
  },
  {
   "cell_type": "code",
   "execution_count": 41,
   "metadata": {},
   "outputs": [
    {
     "name": "stdout",
     "output_type": "stream",
     "text": [
      "Percentage of Current Employees is 83.9% and of Ex-employees is: 16.1%\n"
     ]
    }
   ],
   "source": [
    "print(\"Percentage of Current Employees is {:.1f}% and of Ex-employees is: {:.1f}%\".format(\n",
    "    sum(data['Attrition'] == 'No')/ len(data)*100,\n",
    "    sum(data['Attrition'] == 'Yes')/ len(data)*100))"
   ]
  },
  {
   "cell_type": "markdown",
   "metadata": {},
   "source": [
    "> Machine Learning algorithms typically work best when the number of instances of each classes are roughly equal. We will have to address this imbalanced classes issue in the Modeling stage."
   ]
  },
  {
   "cell_type": "markdown",
   "metadata": {},
   "source": [
    "<a href=#top>Back to Top</a>"
   ]
  },
  {
   "cell_type": "markdown",
   "metadata": {},
   "source": [
    "### Overview "
   ]
  },
  {
   "cell_type": "code",
   "execution_count": 42,
   "metadata": {},
   "outputs": [
    {
     "name": "stdout",
     "output_type": "stream",
     "text": [
      "\u001b[34mNumber of features:\u001b[0m 35; ['Age', 'DailyRate', 'DistanceFromHome']\n",
      "\u001b[34mNumber of numerical features:\u001b[0m 26; ['Age', 'DailyRate', 'DistanceFromHome']\n",
      "\u001b[34mNumber of continuous numeric features:\u001b[0m 13; ['Age', 'DailyRate', 'DistanceFromHome']\n",
      "\u001b[34mNumber of discrete numeric features:\u001b[0m 13; ['Education', 'EmployeeCount', 'EnvironmentSatisfaction']\n",
      "\u001b[34mNumber of categorical features:\u001b[0m 8; ['BusinessTravel', 'Department', 'EducationField']\n",
      "\u001b[34mNumber of features with missing values:\u001b[0m 0; []\n"
     ]
    }
   ],
   "source": [
    "feats = data.columns.tolist()\n",
    "num_feats = [feat for feat in feats if data[feat].dtype != \"O\"]\n",
    "cat_feats = [feat for feat in feats if ((data[feat].dtype == \"O\") and (feat != \"Attrition\"))]\n",
    "na_feats = [feat for feat in feats if data[feat].isnull().sum()>0]\n",
    "discrete_feats = [feat for feat in num_feats if data[feat].nunique()<=10]\n",
    "cont_num_feats = [feat for feat in num_feats if data[feat].nunique()>10]\n",
    "\n",
    "print(colored(\"Number of features:\",\"blue\"), f\"{len(feats)}; { num_feats[:3]}\")\n",
    "print(colored(\"Number of numerical features:\",\"blue\"), f\"{len(num_feats)}; { num_feats[:3]}\")\n",
    "print(colored(\"Number of continuous numeric features:\",\"blue\"), f\"{len(cont_num_feats)}; {cont_num_feats[:3]}\")\n",
    "print(colored(\"Number of discrete numeric features:\",\"blue\"),f\"{len(discrete_feats)}; {discrete_feats[:3]}\")\n",
    "print(colored(\"Number of categorical features:\",\"blue\"), f\"{len(cat_feats)}; {cat_feats[:3]}\")\n",
    "print(colored(\"Number of features with missing values:\",\"blue\"),f\"{len(na_feats)}; {na_feats}\")"
   ]
  },
  {
   "cell_type": "markdown",
   "metadata": {},
   "source": [
    "> Dataset contains several numerical and categorical columns providing various information on employee's personal and employment details.\n",
    "\n",
    "> There are 3 features that containe missing values: \n",
    "- DistanceFromHome\n",
    "- JobSatisfaction\n",
    "- WorkLifeBalance"
   ]
  },
  {
   "cell_type": "markdown",
   "metadata": {},
   "source": [
    "<a href=#top>Back to Top</a>"
   ]
  },
  {
   "cell_type": "markdown",
   "metadata": {},
   "source": [
    "### Continuous Numeric Variables"
   ]
  },
  {
   "cell_type": "code",
   "execution_count": 43,
   "metadata": {},
   "outputs": [
    {
     "data": {
      "image/png": "[encoded data removed]",
      "text/plain": [
       "<Figure size 1440x1440 with 16 Axes>"
      ]
     },
     "metadata": {
      "needs_background": "light"
     },
     "output_type": "display_data"
    }
   ],
   "source": [
    "data[cont_num_feats].hist(figsize=(20,20));"
   ]
  },
  {
   "cell_type": "markdown",
   "metadata": {},
   "source": [
    "> Based on the histograms for continuous numerical features:\n",
    " - Many histograms are tail-heavy; indeed several distributions are right-skewed (e.g. MonthlyIncome DistanceFromHome, YearsAtCompany). Data transformation methods may be required to approach a normal distribution prior to fitting a model to the data.\n",
    " - Age distribution is a slightly right-skewed normal distribution with a lot of staff being between 25 and 45 years old.\n",
    " - EmployeeNumber is likely to be a unique identifier for employees given the feature's quasi-uniform distribution. It is a redundant feature."
   ]
  },
  {
   "cell_type": "code",
   "execution_count": 44,
   "metadata": {},
   "outputs": [],
   "source": [
    "redundant_feats=list()\n",
    "redundant_feats.extend([\"EmployeeNumber\"])"
   ]
  },
  {
   "cell_type": "code",
   "execution_count": 45,
   "metadata": {
    "scrolled": true
   },
   "outputs": [
    {
     "data": {
      "image/png": "[encoded data removed]",
      "text/plain": [
       "<Figure size 691.2x288 with 2 Axes>"
      ]
     },
     "metadata": {
      "needs_background": "light"
     },
     "output_type": "display_data"
    }
   ],
   "source": [
    "## Analyzing relathionshop between MonthlyIncome and Attrition \n",
    "g = sns.FacetGrid(data, col='Attrition',size=4,aspect=1.2)\n",
    "g.map(plt.hist,\"MonthlyIncome\", density=True,bins=20);"
   ]
  },
  {
   "cell_type": "markdown",
   "metadata": {},
   "source": [
    "> Employees with higher income are less likely to leave."
   ]
  },
  {
   "cell_type": "markdown",
   "metadata": {},
   "source": [
    "<a href=#top>Back to Top</a>"
   ]
  },
  {
   "cell_type": "markdown",
   "metadata": {},
   "source": [
    "### Discrete Numeric Variables"
   ]
  },
  {
   "cell_type": "code",
   "execution_count": 46,
   "metadata": {},
   "outputs": [
    {
     "data": {
      "image/png": "[encoded data removed]",
      "text/plain": [
       "<Figure size 1440x1440 with 16 Axes>"
      ]
     },
     "metadata": {
      "needs_background": "light"
     },
     "output_type": "display_data"
    }
   ],
   "source": [
    "data[discrete_feats].hist(figsize=(20,20));"
   ]
  },
  {
   "cell_type": "markdown",
   "metadata": {},
   "source": [
    "> Based on the histograms for discrete numerical features:\n",
    " - EmployeeCount and StandardHours are constant values for all employees. They're redundant features."
   ]
  },
  {
   "cell_type": "code",
   "execution_count": 47,
   "metadata": {},
   "outputs": [],
   "source": [
    "## Adding \"EmployeeCount\",\"StandardHours\" to redundant features\n",
    "redundant_feats.extend([\"EmployeeCount\",\"StandardHours\"])"
   ]
  },
  {
   "cell_type": "code",
   "execution_count": 48,
   "metadata": {},
   "outputs": [
    {
     "data": {
      "image/png": "[encoded data removed]",
      "text/plain": [
       "<Figure size 2160x1440 with 12 Axes>"
      ]
     },
     "metadata": {},
     "output_type": "display_data"
    }
   ],
   "source": [
    "## Analyzing relationship between discrete numeric features and Attrition \n",
    "analyse_discrete(data, feats=[f for f in discrete_feats if f not in redundant_feats],target=\"Attrition\", \n",
    "                 plot_title=\"Percentage of Leavers by Category\",grid_width=3)"
   ]
  },
  {
   "cell_type": "markdown",
   "metadata": {},
   "source": [
    "> Some observations about the relationship between discrete numeric features and Attrition: \n",
    "- Employees with lower JobLevel, JobSatisfaction, and JobInvolvement are more likely to leave."
   ]
  },
  {
   "cell_type": "markdown",
   "metadata": {},
   "source": [
    "<a href=#top>Back to Top</a>"
   ]
  },
  {
   "cell_type": "markdown",
   "metadata": {},
   "source": [
    "### Categorical Variables"
   ]
  },
  {
   "cell_type": "code",
   "execution_count": 49,
   "metadata": {},
   "outputs": [
    {
     "data": {
      "text/html": [
       "<div>\n",
       "<style scoped>\n",
       "    .dataframe tbody tr th:only-of-type {\n",
       "        vertical-align: middle;\n",
       "    }\n",
       "\n",
       "    .dataframe tbody tr th {\n",
       "        vertical-align: top;\n",
       "    }\n",
       "\n",
       "    .dataframe thead th {\n",
       "        text-align: right;\n",
       "    }\n",
       "</style>\n",
       "<table border=\"1\" class=\"dataframe\">\n",
       "  <thead>\n",
       "    <tr style=\"text-align: right;\">\n",
       "      <th></th>\n",
       "      <th>BusinessTravel</th>\n",
       "      <th>Department</th>\n",
       "      <th>EducationField</th>\n",
       "      <th>Gender</th>\n",
       "      <th>JobRole</th>\n",
       "      <th>MaritalStatus</th>\n",
       "      <th>Over18</th>\n",
       "      <th>OverTime</th>\n",
       "    </tr>\n",
       "  </thead>\n",
       "  <tbody>\n",
       "    <tr>\n",
       "      <th>count</th>\n",
       "      <td>1470</td>\n",
       "      <td>1470</td>\n",
       "      <td>1470</td>\n",
       "      <td>1470</td>\n",
       "      <td>1470</td>\n",
       "      <td>1470</td>\n",
       "      <td>1470</td>\n",
       "      <td>1470</td>\n",
       "    </tr>\n",
       "    <tr>\n",
       "      <th>unique</th>\n",
       "      <td>3</td>\n",
       "      <td>3</td>\n",
       "      <td>6</td>\n",
       "      <td>2</td>\n",
       "      <td>9</td>\n",
       "      <td>3</td>\n",
       "      <td>1</td>\n",
       "      <td>2</td>\n",
       "    </tr>\n",
       "    <tr>\n",
       "      <th>top</th>\n",
       "      <td>Travel_Rarely</td>\n",
       "      <td>Research &amp; Development</td>\n",
       "      <td>Life Sciences</td>\n",
       "      <td>Male</td>\n",
       "      <td>Sales Executive</td>\n",
       "      <td>Married</td>\n",
       "      <td>Y</td>\n",
       "      <td>No</td>\n",
       "    </tr>\n",
       "    <tr>\n",
       "      <th>freq</th>\n",
       "      <td>1043</td>\n",
       "      <td>961</td>\n",
       "      <td>606</td>\n",
       "      <td>882</td>\n",
       "      <td>326</td>\n",
       "      <td>673</td>\n",
       "      <td>1470</td>\n",
       "      <td>1054</td>\n",
       "    </tr>\n",
       "  </tbody>\n",
       "</table>\n",
       "</div>"
      ],
      "text/plain": [
       "       BusinessTravel              Department EducationField Gender  \\\n",
       "count   1470           1470                    1470           1470    \n",
       "unique  3              3                       6              2       \n",
       "top     Travel_Rarely  Research & Development  Life Sciences  Male    \n",
       "freq    1043           961                     606            882     \n",
       "\n",
       "                JobRole MaritalStatus Over18 OverTime  \n",
       "count   1470             1470          1470   1470     \n",
       "unique  9                3             1      2        \n",
       "top     Sales Executive  Married       Y      No       \n",
       "freq    326              673           1470   1054     "
      ]
     },
     "execution_count": 49,
     "metadata": {},
     "output_type": "execute_result"
    }
   ],
   "source": [
    "data[cat_feats].describe()"
   ]
  },
  {
   "cell_type": "markdown",
   "metadata": {},
   "source": [
    "> Based on the information for categorical features:\n",
    " - Over18 has constant values for all employees. This is a redundant feature."
   ]
  },
  {
   "cell_type": "code",
   "execution_count": 50,
   "metadata": {},
   "outputs": [],
   "source": [
    "## Adding \"Over18\" to redundant features\n",
    "redundant_feats.extend([\"Over18\"])"
   ]
  },
  {
   "cell_type": "code",
   "execution_count": 51,
   "metadata": {},
   "outputs": [
    {
     "data": {
      "image/png": "[encoded data removed]",
      "text/plain": [
       "<Figure size 1440x1440 with 8 Axes>"
      ]
     },
     "metadata": {},
     "output_type": "display_data"
    }
   ],
   "source": [
    "## Analyzing relathionshop between categorical features and Attrition \n",
    "analyse_discrete(data, feats=[f for f in cat_feats if f not in redundant_feats],target=\"Attrition\", \n",
    "                 plot_title=\"Percentage of Leavers by Category\",grid_width=2)"
   ]
  },
  {
   "cell_type": "markdown",
   "metadata": {},
   "source": [
    "> Some observations about the relationship between categorical features and Attrition: \n",
    "- Gender distribution shows that the dataset features a higher relative proportion of male ex-employees than female ex-employees, with normalised gender distribution of ex-employees in the dataset at 17.0% for Males and 14.8% for Females.\n",
    "- Employees who are single, work overtime, and travel frequently are more likely to leave."
   ]
  },
  {
   "cell_type": "markdown",
   "metadata": {},
   "source": [
    "<a href=#top>Back to Top</a>"
   ]
  },
  {
   "cell_type": "markdown",
   "metadata": {},
   "source": [
    "<a id=\"Featureeng\"></a>\n",
    "# 4. Feature Engineering\n",
    "\n",
    ">In this section, we undertake data pre-processing steps to prepare the datasets for Machine Learning algorithm implementation."
   ]
  },
  {
   "cell_type": "markdown",
   "metadata": {},
   "source": [
    "<center><img src=\"https://ibm.box.com/shared/static/g9awggbgx6lbn1x58ahewq1hcua1d0l7.png\" alt=\"ohenc\" style=\"width:900px;height:400px\"/></center>"
   ]
  },
  {
   "cell_type": "markdown",
   "metadata": {},
   "source": [
    "### Handling Missing Data"
   ]
  },
  {
   "cell_type": "code",
   "execution_count": 52,
   "metadata": {},
   "outputs": [],
   "source": [
    "# Determine percentage of missing values\n",
    "for f in na_feats:\n",
    "    print(f\"\\n{f}\\n Number of Missing Values: {np.sum(data[f].isnull())}.\\\n",
    "    Percentage of Missing Values: {np.round(np.sum(data[f].isnull()*100/len(data)))}%\")"
   ]
  },
  {
   "cell_type": "code",
   "execution_count": 53,
   "metadata": {},
   "outputs": [],
   "source": [
    "data = impute_na(data,na_feats=na_feats,method=\"median\")"
   ]
  },
  {
   "cell_type": "code",
   "execution_count": 54,
   "metadata": {},
   "outputs": [],
   "source": [
    "# Check whether there are missing values left\n",
    "for f in na_feats:\n",
    "    print(f\"\\n{f}\\n Number of Missing Values: {np.sum(data[f].isnull())}.\\\n",
    "    Percentage of Missing Values: {np.round(np.sum(data[f].isnull()*100/len(data)))}%\")"
   ]
  },
  {
   "cell_type": "markdown",
   "metadata": {},
   "source": [
    "### Categorical Variable Encoding - One Hot Encoding"
   ]
  },
  {
   "cell_type": "code",
   "execution_count": 55,
   "metadata": {},
   "outputs": [
    {
     "data": {
      "text/html": [
       "<div>\n",
       "<style scoped>\n",
       "    .dataframe tbody tr th:only-of-type {\n",
       "        vertical-align: middle;\n",
       "    }\n",
       "\n",
       "    .dataframe tbody tr th {\n",
       "        vertical-align: top;\n",
       "    }\n",
       "\n",
       "    .dataframe thead th {\n",
       "        text-align: right;\n",
       "    }\n",
       "</style>\n",
       "<table border=\"1\" class=\"dataframe\">\n",
       "  <thead>\n",
       "    <tr style=\"text-align: right;\">\n",
       "      <th></th>\n",
       "      <th>BusinessTravel</th>\n",
       "      <th>Department</th>\n",
       "      <th>EducationField</th>\n",
       "      <th>Gender</th>\n",
       "      <th>JobRole</th>\n",
       "      <th>MaritalStatus</th>\n",
       "      <th>Over18</th>\n",
       "      <th>OverTime</th>\n",
       "    </tr>\n",
       "  </thead>\n",
       "  <tbody>\n",
       "    <tr>\n",
       "      <th>count</th>\n",
       "      <td>1470</td>\n",
       "      <td>1470</td>\n",
       "      <td>1470</td>\n",
       "      <td>1470</td>\n",
       "      <td>1470</td>\n",
       "      <td>1470</td>\n",
       "      <td>1470</td>\n",
       "      <td>1470</td>\n",
       "    </tr>\n",
       "    <tr>\n",
       "      <th>unique</th>\n",
       "      <td>3</td>\n",
       "      <td>3</td>\n",
       "      <td>6</td>\n",
       "      <td>2</td>\n",
       "      <td>9</td>\n",
       "      <td>3</td>\n",
       "      <td>1</td>\n",
       "      <td>2</td>\n",
       "    </tr>\n",
       "    <tr>\n",
       "      <th>top</th>\n",
       "      <td>Travel_Rarely</td>\n",
       "      <td>Research &amp; Development</td>\n",
       "      <td>Life Sciences</td>\n",
       "      <td>Male</td>\n",
       "      <td>Sales Executive</td>\n",
       "      <td>Married</td>\n",
       "      <td>Y</td>\n",
       "      <td>No</td>\n",
       "    </tr>\n",
       "    <tr>\n",
       "      <th>freq</th>\n",
       "      <td>1043</td>\n",
       "      <td>961</td>\n",
       "      <td>606</td>\n",
       "      <td>882</td>\n",
       "      <td>326</td>\n",
       "      <td>673</td>\n",
       "      <td>1470</td>\n",
       "      <td>1054</td>\n",
       "    </tr>\n",
       "  </tbody>\n",
       "</table>\n",
       "</div>"
      ],
      "text/plain": [
       "       BusinessTravel              Department EducationField Gender  \\\n",
       "count   1470           1470                    1470           1470    \n",
       "unique  3              3                       6              2       \n",
       "top     Travel_Rarely  Research & Development  Life Sciences  Male    \n",
       "freq    1043           961                     606            882     \n",
       "\n",
       "                JobRole MaritalStatus Over18 OverTime  \n",
       "count   1470             1470          1470   1470     \n",
       "unique  9                3             1      2        \n",
       "top     Sales Executive  Married       Y      No       \n",
       "freq    326              673           1470   1054     "
      ]
     },
     "execution_count": 55,
     "metadata": {},
     "output_type": "execute_result"
    }
   ],
   "source": [
    "data[cat_feats].describe()"
   ]
  },
  {
   "cell_type": "markdown",
   "metadata": {},
   "source": [
    "<center><img src=\"https://ibm.box.com/shared/static/d5ltrcmsvuv484q2ngcwvbmr1kmawvmv.png\" alt=\"ohenc\" style=\"width:900px;height:300px\"/></center>"
   ]
  },
  {
   "cell_type": "code",
   "execution_count": 56,
   "metadata": {},
   "outputs": [],
   "source": [
    "## Encoding categorical features\n",
    "data_enc = pd.get_dummies(data[cat_feats], drop_first=True)\n",
    "## Merging with initial data\n",
    "data = data.join(data_enc)\n",
    "## Dropping initial categorical features\n",
    "data.drop(columns=cat_feats,inplace=True)"
   ]
  },
  {
   "cell_type": "code",
   "execution_count": 57,
   "metadata": {},
   "outputs": [
    {
     "name": "stdout",
     "output_type": "stream",
     "text": [
      "The shape of the processed data is: (1470, 48).\n"
     ]
    }
   ],
   "source": [
    "print(f\"The shape of the processed data is: {data.shape}.\")"
   ]
  },
  {
   "cell_type": "markdown",
   "metadata": {},
   "source": [
    "### Feature Scaling"
   ]
  },
  {
   "cell_type": "markdown",
   "metadata": {},
   "source": [
    "> Feature Scaling using MinMaxScaler essentially shrinks the range such that the range is now between 0 and n. Linear Machine Learning algorithms perform better when input numerical variables fall within a similar scale."
   ]
  },
  {
   "cell_type": "code",
   "execution_count": 58,
   "metadata": {},
   "outputs": [],
   "source": [
    "scaler = MinMaxScaler(feature_range=(0, 5))\n",
    "scale_col = data.columns.to_list()\n",
    "scale_col.remove('Attrition')\n",
    "data_scaled = data.copy()\n",
    "\n",
    "for col in  scale_col:\n",
    "    data_scaled[col] = scaler.fit_transform(data_scaled[[col]])"
   ]
  },
  {
   "cell_type": "code",
   "execution_count": 59,
   "metadata": {},
   "outputs": [
    {
     "data": {
      "text/html": [
       "<div>\n",
       "<style scoped>\n",
       "    .dataframe tbody tr th:only-of-type {\n",
       "        vertical-align: middle;\n",
       "    }\n",
       "\n",
       "    .dataframe tbody tr th {\n",
       "        vertical-align: top;\n",
       "    }\n",
       "\n",
       "    .dataframe thead th {\n",
       "        text-align: right;\n",
       "    }\n",
       "</style>\n",
       "<table border=\"1\" class=\"dataframe\">\n",
       "  <thead>\n",
       "    <tr style=\"text-align: right;\">\n",
       "      <th></th>\n",
       "      <th>Age</th>\n",
       "      <th>Attrition</th>\n",
       "      <th>DailyRate</th>\n",
       "      <th>DistanceFromHome</th>\n",
       "      <th>Education</th>\n",
       "      <th>EmployeeCount</th>\n",
       "      <th>EmployeeNumber</th>\n",
       "      <th>EnvironmentSatisfaction</th>\n",
       "      <th>HourlyRate</th>\n",
       "      <th>JobInvolvement</th>\n",
       "      <th>JobLevel</th>\n",
       "      <th>JobSatisfaction</th>\n",
       "      <th>MonthlyIncome</th>\n",
       "      <th>MonthlyRate</th>\n",
       "      <th>NumCompaniesWorked</th>\n",
       "      <th>PercentSalaryHike</th>\n",
       "      <th>PerformanceRating</th>\n",
       "      <th>RelationshipSatisfaction</th>\n",
       "      <th>StandardHours</th>\n",
       "      <th>StockOptionLevel</th>\n",
       "      <th>TotalWorkingYears</th>\n",
       "      <th>TrainingTimesLastYear</th>\n",
       "      <th>WorkLifeBalance</th>\n",
       "      <th>YearsAtCompany</th>\n",
       "      <th>YearsInCurrentRole</th>\n",
       "      <th>YearsSinceLastPromotion</th>\n",
       "      <th>YearsWithCurrManager</th>\n",
       "      <th>BusinessTravel_Travel_Frequently</th>\n",
       "      <th>BusinessTravel_Travel_Rarely</th>\n",
       "      <th>Department_Research &amp; Development</th>\n",
       "      <th>Department_Sales</th>\n",
       "      <th>EducationField_Life Sciences</th>\n",
       "      <th>EducationField_Marketing</th>\n",
       "      <th>EducationField_Medical</th>\n",
       "      <th>EducationField_Other</th>\n",
       "      <th>EducationField_Technical Degree</th>\n",
       "      <th>Gender_Male</th>\n",
       "      <th>JobRole_Human Resources</th>\n",
       "      <th>JobRole_Laboratory Technician</th>\n",
       "      <th>JobRole_Manager</th>\n",
       "      <th>JobRole_Manufacturing Director</th>\n",
       "      <th>JobRole_Research Director</th>\n",
       "      <th>JobRole_Research Scientist</th>\n",
       "      <th>JobRole_Sales Executive</th>\n",
       "      <th>JobRole_Sales Representative</th>\n",
       "      <th>MaritalStatus_Married</th>\n",
       "      <th>MaritalStatus_Single</th>\n",
       "      <th>OverTime_Yes</th>\n",
       "    </tr>\n",
       "  </thead>\n",
       "  <tbody>\n",
       "    <tr>\n",
       "      <th>0</th>\n",
       "      <td>2.738095</td>\n",
       "      <td>Yes</td>\n",
       "      <td>3.579098</td>\n",
       "      <td>0.000000</td>\n",
       "      <td>1.25</td>\n",
       "      <td>0.0</td>\n",
       "      <td>0.000000</td>\n",
       "      <td>1.666667</td>\n",
       "      <td>4.571429</td>\n",
       "      <td>3.333333</td>\n",
       "      <td>1.25</td>\n",
       "      <td>5.000000</td>\n",
       "      <td>1.312270</td>\n",
       "      <td>3.490263</td>\n",
       "      <td>4.444444</td>\n",
       "      <td>0.000000</td>\n",
       "      <td>0.0</td>\n",
       "      <td>0.000000</td>\n",
       "      <td>0.0</td>\n",
       "      <td>0.000000</td>\n",
       "      <td>1.000</td>\n",
       "      <td>0.0</td>\n",
       "      <td>0.000000</td>\n",
       "      <td>0.75</td>\n",
       "      <td>1.111111</td>\n",
       "      <td>0.000000</td>\n",
       "      <td>1.470588</td>\n",
       "      <td>0.0</td>\n",
       "      <td>5.0</td>\n",
       "      <td>0.0</td>\n",
       "      <td>5.0</td>\n",
       "      <td>5.0</td>\n",
       "      <td>0.0</td>\n",
       "      <td>0.0</td>\n",
       "      <td>0.0</td>\n",
       "      <td>0.0</td>\n",
       "      <td>0.0</td>\n",
       "      <td>0.0</td>\n",
       "      <td>0.0</td>\n",
       "      <td>0.0</td>\n",
       "      <td>0.0</td>\n",
       "      <td>0.0</td>\n",
       "      <td>0.0</td>\n",
       "      <td>5.0</td>\n",
       "      <td>0.0</td>\n",
       "      <td>0.0</td>\n",
       "      <td>5.0</td>\n",
       "      <td>5.0</td>\n",
       "    </tr>\n",
       "    <tr>\n",
       "      <th>1</th>\n",
       "      <td>3.690476</td>\n",
       "      <td>No</td>\n",
       "      <td>0.633500</td>\n",
       "      <td>1.250000</td>\n",
       "      <td>0.00</td>\n",
       "      <td>0.0</td>\n",
       "      <td>0.002419</td>\n",
       "      <td>3.333333</td>\n",
       "      <td>2.214286</td>\n",
       "      <td>1.666667</td>\n",
       "      <td>1.25</td>\n",
       "      <td>1.666667</td>\n",
       "      <td>1.085045</td>\n",
       "      <td>4.580004</td>\n",
       "      <td>0.555556</td>\n",
       "      <td>4.285714</td>\n",
       "      <td>5.0</td>\n",
       "      <td>5.000000</td>\n",
       "      <td>0.0</td>\n",
       "      <td>1.666667</td>\n",
       "      <td>1.250</td>\n",
       "      <td>2.5</td>\n",
       "      <td>3.333333</td>\n",
       "      <td>1.25</td>\n",
       "      <td>1.944444</td>\n",
       "      <td>0.333333</td>\n",
       "      <td>2.058824</td>\n",
       "      <td>5.0</td>\n",
       "      <td>0.0</td>\n",
       "      <td>5.0</td>\n",
       "      <td>0.0</td>\n",
       "      <td>5.0</td>\n",
       "      <td>0.0</td>\n",
       "      <td>0.0</td>\n",
       "      <td>0.0</td>\n",
       "      <td>0.0</td>\n",
       "      <td>5.0</td>\n",
       "      <td>0.0</td>\n",
       "      <td>0.0</td>\n",
       "      <td>0.0</td>\n",
       "      <td>0.0</td>\n",
       "      <td>0.0</td>\n",
       "      <td>5.0</td>\n",
       "      <td>0.0</td>\n",
       "      <td>0.0</td>\n",
       "      <td>5.0</td>\n",
       "      <td>0.0</td>\n",
       "      <td>0.0</td>\n",
       "    </tr>\n",
       "    <tr>\n",
       "      <th>2</th>\n",
       "      <td>2.261905</td>\n",
       "      <td>Yes</td>\n",
       "      <td>4.549034</td>\n",
       "      <td>0.178571</td>\n",
       "      <td>1.25</td>\n",
       "      <td>0.0</td>\n",
       "      <td>0.007257</td>\n",
       "      <td>5.000000</td>\n",
       "      <td>4.428571</td>\n",
       "      <td>1.666667</td>\n",
       "      <td>0.00</td>\n",
       "      <td>3.333333</td>\n",
       "      <td>0.284623</td>\n",
       "      <td>0.060630</td>\n",
       "      <td>3.333333</td>\n",
       "      <td>1.428571</td>\n",
       "      <td>0.0</td>\n",
       "      <td>1.666667</td>\n",
       "      <td>0.0</td>\n",
       "      <td>0.000000</td>\n",
       "      <td>0.875</td>\n",
       "      <td>2.5</td>\n",
       "      <td>3.333333</td>\n",
       "      <td>0.00</td>\n",
       "      <td>0.000000</td>\n",
       "      <td>0.000000</td>\n",
       "      <td>0.000000</td>\n",
       "      <td>0.0</td>\n",
       "      <td>5.0</td>\n",
       "      <td>5.0</td>\n",
       "      <td>0.0</td>\n",
       "      <td>0.0</td>\n",
       "      <td>0.0</td>\n",
       "      <td>0.0</td>\n",
       "      <td>5.0</td>\n",
       "      <td>0.0</td>\n",
       "      <td>5.0</td>\n",
       "      <td>0.0</td>\n",
       "      <td>5.0</td>\n",
       "      <td>0.0</td>\n",
       "      <td>0.0</td>\n",
       "      <td>0.0</td>\n",
       "      <td>0.0</td>\n",
       "      <td>0.0</td>\n",
       "      <td>0.0</td>\n",
       "      <td>0.0</td>\n",
       "      <td>5.0</td>\n",
       "      <td>5.0</td>\n",
       "    </tr>\n",
       "    <tr>\n",
       "      <th>3</th>\n",
       "      <td>1.785714</td>\n",
       "      <td>No</td>\n",
       "      <td>4.617037</td>\n",
       "      <td>0.357143</td>\n",
       "      <td>3.75</td>\n",
       "      <td>0.0</td>\n",
       "      <td>0.009676</td>\n",
       "      <td>5.000000</td>\n",
       "      <td>1.857143</td>\n",
       "      <td>3.333333</td>\n",
       "      <td>0.00</td>\n",
       "      <td>3.333333</td>\n",
       "      <td>0.500263</td>\n",
       "      <td>4.229070</td>\n",
       "      <td>0.555556</td>\n",
       "      <td>0.000000</td>\n",
       "      <td>0.0</td>\n",
       "      <td>3.333333</td>\n",
       "      <td>0.0</td>\n",
       "      <td>0.000000</td>\n",
       "      <td>1.000</td>\n",
       "      <td>2.5</td>\n",
       "      <td>3.333333</td>\n",
       "      <td>1.00</td>\n",
       "      <td>1.944444</td>\n",
       "      <td>1.000000</td>\n",
       "      <td>0.000000</td>\n",
       "      <td>5.0</td>\n",
       "      <td>0.0</td>\n",
       "      <td>5.0</td>\n",
       "      <td>0.0</td>\n",
       "      <td>5.0</td>\n",
       "      <td>0.0</td>\n",
       "      <td>0.0</td>\n",
       "      <td>0.0</td>\n",
       "      <td>0.0</td>\n",
       "      <td>0.0</td>\n",
       "      <td>0.0</td>\n",
       "      <td>0.0</td>\n",
       "      <td>0.0</td>\n",
       "      <td>0.0</td>\n",
       "      <td>0.0</td>\n",
       "      <td>5.0</td>\n",
       "      <td>0.0</td>\n",
       "      <td>0.0</td>\n",
       "      <td>5.0</td>\n",
       "      <td>0.0</td>\n",
       "      <td>5.0</td>\n",
       "    </tr>\n",
       "    <tr>\n",
       "      <th>4</th>\n",
       "      <td>1.071429</td>\n",
       "      <td>No</td>\n",
       "      <td>1.750179</td>\n",
       "      <td>0.178571</td>\n",
       "      <td>0.00</td>\n",
       "      <td>0.0</td>\n",
       "      <td>0.014514</td>\n",
       "      <td>0.000000</td>\n",
       "      <td>0.714286</td>\n",
       "      <td>3.333333</td>\n",
       "      <td>0.00</td>\n",
       "      <td>1.666667</td>\n",
       "      <td>0.647446</td>\n",
       "      <td>2.918691</td>\n",
       "      <td>5.000000</td>\n",
       "      <td>0.357143</td>\n",
       "      <td>0.0</td>\n",
       "      <td>5.000000</td>\n",
       "      <td>0.0</td>\n",
       "      <td>1.666667</td>\n",
       "      <td>0.750</td>\n",
       "      <td>2.5</td>\n",
       "      <td>3.333333</td>\n",
       "      <td>0.25</td>\n",
       "      <td>0.555556</td>\n",
       "      <td>0.666667</td>\n",
       "      <td>0.588235</td>\n",
       "      <td>0.0</td>\n",
       "      <td>5.0</td>\n",
       "      <td>5.0</td>\n",
       "      <td>0.0</td>\n",
       "      <td>0.0</td>\n",
       "      <td>0.0</td>\n",
       "      <td>5.0</td>\n",
       "      <td>0.0</td>\n",
       "      <td>0.0</td>\n",
       "      <td>5.0</td>\n",
       "      <td>0.0</td>\n",
       "      <td>5.0</td>\n",
       "      <td>0.0</td>\n",
       "      <td>0.0</td>\n",
       "      <td>0.0</td>\n",
       "      <td>0.0</td>\n",
       "      <td>0.0</td>\n",
       "      <td>0.0</td>\n",
       "      <td>5.0</td>\n",
       "      <td>0.0</td>\n",
       "      <td>0.0</td>\n",
       "    </tr>\n",
       "  </tbody>\n",
       "</table>\n",
       "</div>"
      ],
      "text/plain": [
       "        Age Attrition  DailyRate  DistanceFromHome  Education  EmployeeCount  \\\n",
       "0  2.738095  Yes       3.579098   0.000000          1.25       0.0             \n",
       "1  3.690476  No        0.633500   1.250000          0.00       0.0             \n",
       "2  2.261905  Yes       4.549034   0.178571          1.25       0.0             \n",
       "3  1.785714  No        4.617037   0.357143          3.75       0.0             \n",
       "4  1.071429  No        1.750179   0.178571          0.00       0.0             \n",
       "\n",
       "   EmployeeNumber  EnvironmentSatisfaction  HourlyRate  JobInvolvement  \\\n",
       "0  0.000000        1.666667                 4.571429    3.333333         \n",
       "1  0.002419        3.333333                 2.214286    1.666667         \n",
       "2  0.007257        5.000000                 4.428571    1.666667         \n",
       "3  0.009676        5.000000                 1.857143    3.333333         \n",
       "4  0.014514        0.000000                 0.714286    3.333333         \n",
       "\n",
       "   JobLevel  JobSatisfaction  MonthlyIncome  MonthlyRate  NumCompaniesWorked  \\\n",
       "0  1.25      5.000000         1.312270       3.490263     4.444444             \n",
       "1  1.25      1.666667         1.085045       4.580004     0.555556             \n",
       "2  0.00      3.333333         0.284623       0.060630     3.333333             \n",
       "3  0.00      3.333333         0.500263       4.229070     0.555556             \n",
       "4  0.00      1.666667         0.647446       2.918691     5.000000             \n",
       "\n",
       "   PercentSalaryHike  PerformanceRating  RelationshipSatisfaction  \\\n",
       "0  0.000000           0.0                0.000000                   \n",
       "1  4.285714           5.0                5.000000                   \n",
       "2  1.428571           0.0                1.666667                   \n",
       "3  0.000000           0.0                3.333333                   \n",
       "4  0.357143           0.0                5.000000                   \n",
       "\n",
       "   StandardHours  StockOptionLevel  TotalWorkingYears  TrainingTimesLastYear  \\\n",
       "0  0.0            0.000000          1.000              0.0                     \n",
       "1  0.0            1.666667          1.250              2.5                     \n",
       "2  0.0            0.000000          0.875              2.5                     \n",
       "3  0.0            0.000000          1.000              2.5                     \n",
       "4  0.0            1.666667          0.750              2.5                     \n",
       "\n",
       "   WorkLifeBalance  YearsAtCompany  YearsInCurrentRole  \\\n",
       "0  0.000000         0.75            1.111111             \n",
       "1  3.333333         1.25            1.944444             \n",
       "2  3.333333         0.00            0.000000             \n",
       "3  3.333333         1.00            1.944444             \n",
       "4  3.333333         0.25            0.555556             \n",
       "\n",
       "   YearsSinceLastPromotion  YearsWithCurrManager  \\\n",
       "0  0.000000                 1.470588               \n",
       "1  0.333333                 2.058824               \n",
       "2  0.000000                 0.000000               \n",
       "3  1.000000                 0.000000               \n",
       "4  0.666667                 0.588235               \n",
       "\n",
       "   BusinessTravel_Travel_Frequently  BusinessTravel_Travel_Rarely  \\\n",
       "0  0.0                               5.0                            \n",
       "1  5.0                               0.0                            \n",
       "2  0.0                               5.0                            \n",
       "3  5.0                               0.0                            \n",
       "4  0.0                               5.0                            \n",
       "\n",
       "   Department_Research & Development  Department_Sales  \\\n",
       "0  0.0                                5.0                \n",
       "1  5.0                                0.0                \n",
       "2  5.0                                0.0                \n",
       "3  5.0                                0.0                \n",
       "4  5.0                                0.0                \n",
       "\n",
       "   EducationField_Life Sciences  EducationField_Marketing  \\\n",
       "0  5.0                           0.0                        \n",
       "1  5.0                           0.0                        \n",
       "2  0.0                           0.0                        \n",
       "3  5.0                           0.0                        \n",
       "4  0.0                           0.0                        \n",
       "\n",
       "   EducationField_Medical  EducationField_Other  \\\n",
       "0  0.0                     0.0                    \n",
       "1  0.0                     0.0                    \n",
       "2  0.0                     5.0                    \n",
       "3  0.0                     0.0                    \n",
       "4  5.0                     0.0                    \n",
       "\n",
       "   EducationField_Technical Degree  Gender_Male  JobRole_Human Resources  \\\n",
       "0  0.0                              0.0          0.0                       \n",
       "1  0.0                              5.0          0.0                       \n",
       "2  0.0                              5.0          0.0                       \n",
       "3  0.0                              0.0          0.0                       \n",
       "4  0.0                              5.0          0.0                       \n",
       "\n",
       "   JobRole_Laboratory Technician  JobRole_Manager  \\\n",
       "0  0.0                            0.0               \n",
       "1  0.0                            0.0               \n",
       "2  5.0                            0.0               \n",
       "3  0.0                            0.0               \n",
       "4  5.0                            0.0               \n",
       "\n",
       "   JobRole_Manufacturing Director  JobRole_Research Director  \\\n",
       "0  0.0                             0.0                         \n",
       "1  0.0                             0.0                         \n",
       "2  0.0                             0.0                         \n",
       "3  0.0                             0.0                         \n",
       "4  0.0                             0.0                         \n",
       "\n",
       "   JobRole_Research Scientist  JobRole_Sales Executive  \\\n",
       "0  0.0                         5.0                       \n",
       "1  5.0                         0.0                       \n",
       "2  0.0                         0.0                       \n",
       "3  5.0                         0.0                       \n",
       "4  0.0                         0.0                       \n",
       "\n",
       "   JobRole_Sales Representative  MaritalStatus_Married  MaritalStatus_Single  \\\n",
       "0  0.0                           0.0                    5.0                    \n",
       "1  0.0                           5.0                    0.0                    \n",
       "2  0.0                           0.0                    5.0                    \n",
       "3  0.0                           5.0                    0.0                    \n",
       "4  0.0                           5.0                    0.0                    \n",
       "\n",
       "   OverTime_Yes  \n",
       "0  5.0           \n",
       "1  0.0           \n",
       "2  5.0           \n",
       "3  5.0           \n",
       "4  0.0           "
      ]
     },
     "execution_count": 59,
     "metadata": {},
     "output_type": "execute_result"
    }
   ],
   "source": [
    "data_scaled.head(5)"
   ]
  },
  {
   "cell_type": "markdown",
   "metadata": {},
   "source": [
    "<a href=#top>Back to Top</a>"
   ]
  },
  {
   "cell_type": "markdown",
   "metadata": {},
   "source": [
    "<a id=\"Featureselec\"></a>\n",
    "# 5. Feature Selection\n",
    "> There are multiple methods for feature selection:\n",
    "- Filter\n",
    "- Wrapper\n",
    "- Embedded<br>\n",
    "For this use case we will use Filter method."
   ]
  },
  {
   "cell_type": "code",
   "execution_count": 60,
   "metadata": {},
   "outputs": [
    {
     "name": "stdout",
     "output_type": "stream",
     "text": [
      "Reduntant features: ['EmployeeNumber', 'EmployeeCount', 'StandardHours', 'Over18'].\n"
     ]
    }
   ],
   "source": [
    "print(f\"Reduntant features: {redundant_feats}.\")"
   ]
  },
  {
   "cell_type": "code",
   "execution_count": 61,
   "metadata": {},
   "outputs": [],
   "source": [
    "all_feats = [f for f in data_scaled.columns.to_list() if f != \"Attrition\"]\n",
    "selected_feats = [f for f in all_feats if f not in redundant_feats]\n",
    "target = \"Attrition\""
   ]
  },
  {
   "cell_type": "code",
   "execution_count": 62,
   "metadata": {},
   "outputs": [
    {
     "name": "stdout",
     "output_type": "stream",
     "text": [
      "Number of selected features: 44. \n",
      "Target variable is: Attrition.\n"
     ]
    }
   ],
   "source": [
    "print(f\"Number of selected features: {len(selected_feats)}. \\nTarget variable is: {target}.\")"
   ]
  },
  {
   "cell_type": "markdown",
   "metadata": {},
   "source": [
    "<a href=#top>Back to Top</a>"
   ]
  },
  {
   "cell_type": "markdown",
   "metadata": {},
   "source": [
    "<a id=\"modeling\"></a>\n",
    "# 6. Modeling"
   ]
  },
  {
   "cell_type": "markdown",
   "metadata": {},
   "source": [
    "## Split data for Training (80%) and Testing (20%)\n",
    "- Training data used to define the model\n",
    "- Testing data is kept to one side when the model is defined and applied to the model to validate it\n",
    "- Testing data is a proxy for new data in models that need to work with as-yet unseen input\n",
    "\n",
    "> Since we have imbalanced classes problem: i.e. more current employees than employees that left, let's use stratify=y to maintain the same ratio when splitting the dataset."
   ]
  },
  {
   "cell_type": "code",
   "execution_count": 63,
   "metadata": {},
   "outputs": [],
   "source": [
    "X_train, X_test, y_train, y_test = train_test_split(data_scaled[selected_feats], data_scaled[target],\n",
    "                                                    test_size=0.20, \n",
    "                                                    random_state=7, \n",
    "                                                    stratify=data_scaled[target])"
   ]
  },
  {
   "cell_type": "code",
   "execution_count": 64,
   "metadata": {},
   "outputs": [
    {
     "name": "stdout",
     "output_type": "stream",
     "text": [
      "X_train shape: (1176, 44). y_train shape: (1176,).\n",
      "X_test shape: (294, 44). y_test shape: (294,).\n"
     ]
    }
   ],
   "source": [
    "print(f\"X_train shape: {X_train.shape}. y_train shape: {y_train.shape}.\")\n",
    "print(f\"X_test shape: {X_test.shape}. y_test shape: {y_test.shape}.\")"
   ]
  },
  {
   "cell_type": "markdown",
   "metadata": {},
   "source": [
    "<a href=#top>Back to Top</a>"
   ]
  },
  {
   "cell_type": "markdown",
   "metadata": {},
   "source": [
    "## Algorithm Selection"
   ]
  },
  {
   "cell_type": "code",
   "execution_count": 65,
   "metadata": {},
   "outputs": [],
   "source": [
    "# Selecting various algorithms to try\n",
    "models = []\n",
    "models.append(('Logistic Regression', LogisticRegression(random_state=7,class_weight='balanced')))\n",
    "models.append(('Random Forest', RandomForestClassifier(n_estimators=100, random_state=7)))\n",
    "models.append(('SVM', SVC(gamma='auto', random_state=7)))\n",
    "models.append(('Decision Tree Classifier',DecisionTreeClassifier(random_state=7)))"
   ]
  },
  {
   "cell_type": "markdown",
   "metadata": {},
   "source": [
    "## Cross-Validation\n",
    "![AI](https://www.researchgate.net/profile/Johar_Ashfaque/publication/332370436/figure/fig1/AS:746775958806528@1555056671117/Diagram-of-k-fold-cross-validation-with-k-10-Image-from-Karl-Rosaen-Log.ppm)"
   ]
  },
  {
   "cell_type": "code",
   "execution_count": 66,
   "metadata": {},
   "outputs": [],
   "source": [
    "acc_results = []\n",
    "auc_results = []\n",
    "names = []\n",
    "# Table to populate with performance results\n",
    "df_results = pd.DataFrame(columns=['Algorithm', 'Mean ROC AUC', 'Weighted Mean Accuracy'])\n",
    "\n",
    "# Evaluate each model\n",
    "for i, (name, model) in enumerate(models):\n",
    "    kfold = KFold(n_splits=10, random_state=7)  # 10-fold cross-validation\n",
    "\n",
    "    cv_acc_results = cross_val_score(model, X_train, y_train, cv=kfold, scoring='f1_weighted')\n",
    "    cv_auc_results = cross_val_score(model, X_train, y_train, cv=kfold, scoring='roc_auc')\n",
    "\n",
    "    acc_results.append(cv_acc_results)\n",
    "    auc_results.append(cv_auc_results)\n",
    "    names.append(name)\n",
    "    \n",
    "    df_results.loc[i] = [name, round(cv_auc_results.mean()*100, 2), round(cv_acc_results.mean()*100, 2)]\n",
    "\n",
    "    df_results.sort_values(by=['Weighted Mean Accuracy'], ascending=False)"
   ]
  },
  {
   "cell_type": "code",
   "execution_count": 67,
   "metadata": {},
   "outputs": [
    {
     "data": {
      "text/html": [
       "<div>\n",
       "<style scoped>\n",
       "    .dataframe tbody tr th:only-of-type {\n",
       "        vertical-align: middle;\n",
       "    }\n",
       "\n",
       "    .dataframe tbody tr th {\n",
       "        vertical-align: top;\n",
       "    }\n",
       "\n",
       "    .dataframe thead th {\n",
       "        text-align: right;\n",
       "    }\n",
       "</style>\n",
       "<table border=\"1\" class=\"dataframe\">\n",
       "  <thead>\n",
       "    <tr style=\"text-align: right;\">\n",
       "      <th></th>\n",
       "      <th>Algorithm</th>\n",
       "      <th>Mean ROC AUC</th>\n",
       "      <th>Weighted Mean Accuracy</th>\n",
       "    </tr>\n",
       "  </thead>\n",
       "  <tbody>\n",
       "    <tr>\n",
       "      <th>1</th>\n",
       "      <td>Random Forest</td>\n",
       "      <td>79.63</td>\n",
       "      <td>81.40</td>\n",
       "    </tr>\n",
       "    <tr>\n",
       "      <th>3</th>\n",
       "      <td>Decision Tree Classifier</td>\n",
       "      <td>61.08</td>\n",
       "      <td>79.08</td>\n",
       "    </tr>\n",
       "    <tr>\n",
       "      <th>0</th>\n",
       "      <td>Logistic Regression</td>\n",
       "      <td>80.32</td>\n",
       "      <td>79.00</td>\n",
       "    </tr>\n",
       "    <tr>\n",
       "      <th>2</th>\n",
       "      <td>SVM</td>\n",
       "      <td>77.85</td>\n",
       "      <td>78.59</td>\n",
       "    </tr>\n",
       "  </tbody>\n",
       "</table>\n",
       "</div>"
      ],
      "text/plain": [
       "                  Algorithm  Mean ROC AUC  Weighted Mean Accuracy\n",
       "1  Random Forest             79.63         81.40                 \n",
       "3  Decision Tree Classifier  61.08         79.08                 \n",
       "0  Logistic Regression       80.32         79.00                 \n",
       "2  SVM                       77.85         78.59                 "
      ]
     },
     "execution_count": 67,
     "metadata": {},
     "output_type": "execute_result"
    }
   ],
   "source": [
    "df_results.sort_values(by=['Weighted Mean Accuracy'], ascending=False)"
   ]
  },
  {
   "cell_type": "markdown",
   "metadata": {},
   "source": [
    "<a href=#top>Back to Top</a>"
   ]
  },
  {
   "cell_type": "markdown",
   "metadata": {},
   "source": [
    "## Model Training - Random Forest Classifier\n",
    "**Random Forest** is a popular and versatile machine learning method that is capable of solving both regression and classification problems. It is an ensemble algorithm, as it relies on an ensemble of decision trees. A decision tree is composed of a series of decisions that can be used to classify an observation in a dataset.\n",
    "\n",
    "Random Forest fits a number of decision tree classifiers on various **sub-samples of the dataset** and use **averaging** to improve the predictive accuracy and control over-fitting. Random Forest can handle a large number of features, and is helpful for estimating which of your variables are important in the underlying data being modeled."
   ]
  },
  {
   "cell_type": "markdown",
   "metadata": {},
   "source": [
    "<center><img src=\"https://ibm.box.com/shared/static/b5mrbybamus8j94q3w6y6vzrwoqvzkzx.png\" alt=\"conf\"/></center>"
   ]
  },
  {
   "cell_type": "code",
   "execution_count": 68,
   "metadata": {},
   "outputs": [
    {
     "data": {
      "text/plain": [
       "RandomForestClassifier(class_weight='balanced', random_state=7)"
      ]
     },
     "execution_count": 68,
     "metadata": {},
     "output_type": "execute_result"
    }
   ],
   "source": [
    "rf_classifier = RandomForestClassifier(class_weight = \"balanced\", random_state=7)\n",
    "rf_classifier.fit(X_train,y_train)"
   ]
  },
  {
   "cell_type": "markdown",
   "metadata": {},
   "source": [
    "<a href=#top>Back to Top</a>"
   ]
  },
  {
   "cell_type": "markdown",
   "metadata": {},
   "source": [
    "<a id=\"modeleval\"></a>\n",
    "# 7. Model Evaluation"
   ]
  },
  {
   "cell_type": "markdown",
   "metadata": {},
   "source": [
    "<center><h2>Confusion matrix</h2></center>\n",
    "\n",
    "<center><img src=\"https://skappal7.files.wordpress.com/2018/08/confusion-matrix.jpg?w=748\" alt=\"conf\"/></center>"
   ]
  },
  {
   "cell_type": "markdown",
   "metadata": {},
   "source": [
    "## Initial Model Performance"
   ]
  },
  {
   "cell_type": "code",
   "execution_count": 69,
   "metadata": {},
   "outputs": [
    {
     "name": "stdout",
     "output_type": "stream",
     "text": [
      "\u001b[34mTesting Set\u001b[0m\n",
      "ROC AUC Score: 76.87\n",
      "Weighted Average Accuracy: 82.01\n"
     ]
    },
    {
     "data": {
      "image/png": "[encoded data removed]",
      "text/plain": [
       "<Figure size 576x360 with 2 Axes>"
      ]
     },
     "metadata": {},
     "output_type": "display_data"
    }
   ],
   "source": [
    "model_performance(rf_classifier,X_test,y_test,t=\"Testing Set\")"
   ]
  },
  {
   "cell_type": "markdown",
   "metadata": {},
   "source": [
    "> Model does much better on the training set than on the testing set, hence doesn’t generalize well from our training data to unseen data.\n",
    " This problem is called **Overfitting**. We will do HyperParameter Optimization to overcome this issue."
   ]
  },
  {
   "cell_type": "markdown",
   "metadata": {},
   "source": [
    "<a href=#top>Back to Top</a>"
   ]
  },
  {
   "cell_type": "markdown",
   "metadata": {},
   "source": [
    "## Hyper-Parameter Optimization"
   ]
  },
  {
   "cell_type": "code",
   "execution_count": 70,
   "metadata": {},
   "outputs": [
    {
     "name": "stdout",
     "output_type": "stream",
     "text": [
      "====================\n",
      "best params: RandomForestClassifier(class_weight='balanced', max_depth=15,\n",
      "                       min_samples_split=4, random_state=7)\n",
      "best params: {'max_depth': 15, 'min_samples_leaf': 1, 'min_samples_split': 4, 'n_estimators': 100}\n",
      "best score: 0.8002335513076653\n",
      "====================\n"
     ]
    }
   ],
   "source": [
    "rf = RandomForestClassifier(class_weight = \"balanced\", random_state=7)\n",
    "param_grid = {'n_estimators': [50, 75, 100, 125],\n",
    "              'min_samples_split':[2,4,6,8,10],\n",
    "              'min_samples_leaf': [1, 2, 3, 4],\n",
    "              'max_depth': [5, 10, 15]}\n",
    "\n",
    "grid_obj = GridSearchCV(rf,\n",
    "                        iid=True,\n",
    "                        return_train_score=True,\n",
    "                        param_grid=param_grid,\n",
    "                        scoring='roc_auc',\n",
    "                        cv=10,n_jobs=-1)\n",
    "\n",
    "grid_fit = grid_obj.fit(X_train, y_train)\n",
    "rf_opt = grid_fit.best_estimator_\n",
    "\n",
    "print('='*20)\n",
    "print(\"best params: \" + str(grid_obj.best_estimator_))\n",
    "print(\"best params: \" + str(grid_obj.best_params_))\n",
    "print('best score:', grid_obj.best_score_)\n",
    "print('='*20)"
   ]
  },
  {
   "cell_type": "markdown",
   "metadata": {},
   "source": [
    "<a href=#top>Back to Top</a>"
   ]
  },
  {
   "cell_type": "markdown",
   "metadata": {},
   "source": [
    "## Optimized Model Performance"
   ]
  },
  {
   "cell_type": "code",
   "execution_count": 71,
   "metadata": {},
   "outputs": [
    {
     "name": "stdout",
     "output_type": "stream",
     "text": [
      "\u001b[34mTesting Set\u001b[0m\n",
      "ROC AUC Score: 80.42\n",
      "Weighted Average Accuracy: 81.14\n"
     ]
    },
    {
     "data": {
      "image/png": "[encoded data removed]",
      "text/plain": [
       "<Figure size 576x360 with 2 Axes>"
      ]
     },
     "metadata": {},
     "output_type": "display_data"
    }
   ],
   "source": [
    "model_performance(rf_opt,X_test,y_test,t=\"Testing Set\")"
   ]
  },
  {
   "cell_type": "markdown",
   "metadata": {},
   "source": [
    "> We have successfully increased our AUC score from 76% to 81% closing the gap between model's performance on training and testing sets. Moreover, Weighted Average Accuracy has increased from 78% to 83%."
   ]
  },
  {
   "cell_type": "markdown",
   "metadata": {},
   "source": [
    "<a href=#top>Back to Top</a>"
   ]
  },
  {
   "cell_type": "markdown",
   "metadata": {},
   "source": [
    "# 8. Inference and Conclusions"
   ]
  },
  {
   "cell_type": "code",
   "execution_count": 72,
   "metadata": {},
   "outputs": [
    {
     "data": {
      "image/png": "[encoded data removed]",
      "text/plain": [
       "<Figure size 1080x504 with 1 Axes>"
      ]
     },
     "metadata": {},
     "output_type": "display_data"
    }
   ],
   "source": [
    "plt.figure(figsize=(15,7))\n",
    "feat_importances = pd.Series(rf_opt.feature_importances_, index=selected_feats)\n",
    "feat_importances.nlargest(9).plot(kind='barh').invert_yaxis()"
   ]
  },
  {
   "cell_type": "markdown",
   "metadata": {},
   "source": [
    "### Strong Indicators of Attrition"
   ]
  },
  {
   "cell_type": "markdown",
   "metadata": {},
   "source": [
    "- **Monthly Income** - People on higher wages are less likely to leave the company. Hence, efforts should be made to gather information on industry benchmarks in the current local market to determine if the company is providing competitive wages.\n",
    "\n",
    "\n",
    "- **Over Time** - People who work overtime are more likelty to leave the company. Hence, efforts must be taken to appropriately scope projects upfront with adequate support and manpower so as to reduce the use of overtime.\n",
    "\n",
    "\n",
    "- **Age** - Employees in relatively young age bracket 25-35 are more likely to leave. Hence, efforts should be made to clearly articulate the long-term vision of the company and young employees fit in that vision, as well as provide incentives in the form of clear paths to promotion for instance.\n",
    "\n",
    "\n",
    "- **DistanceFromHome** - Employees who live further from home are more likely to leave the company. Hence, efforts should be made to provide support in the form of company transportation for clusters of employees leaving the same area, or in the form of Transportation Allowance.\n",
    "\n",
    "\n",
    "- **TotalWorkingYears** - The more experienced employees are less likely to leave. Employees who have between 5-8 years of experience should be identified as potentially having a lower-risk of leaving.\n",
    "\n",
    "\n",
    "- **YearsAtCompany** - Loyal employees are less likely to leave. Employees who hit their two-year anniversary should be identified as potentially having a lower-risk of leaving."
   ]
  },
  {
   "cell_type": "markdown",
   "metadata": {},
   "source": [
    "### Risk Category"
   ]
  },
  {
   "cell_type": "markdown",
   "metadata": {},
   "source": [
    "As the company generates more data on its employees (on new hires and recent leavers), the algorithm can be re-trained using the additional data and theoritically generate more accurate predictions.\n",
    "Employees can be assigned to a \"Risk Category\" based on the predicted label such that:\n",
    "- **Low-risk** - employees with Attrition probability < 0.6\n",
    "- **Medium-risk** - employees with Attrition probability l between 0.6 and 0.8\n",
    "- **High-risk** - employees with Attrition probability > 0.8 <br>"
   ]
  },
  {
   "cell_type": "markdown",
   "metadata": {},
   "source": [
    "### Strategic Retention Plan\n",
    "\n",
    "A strategic **\"Retention Plan\"** should be drawn for each **Risk Category** group. For example:\n",
    "\n",
    "- Face-to-face meetings between a HR representative and employees can be initiated for **medium-** and **high-risk employees** to discuss work conditions. \n",
    "- Also, a meeting with those employee's Line Manager would allow to discuss the work environment within the team and whether steps can be taken to improve it."
   ]
  },
  {
   "cell_type": "markdown",
   "metadata": {},
   "source": [
    "# END"
   ]
  },
  {
   "cell_type": "markdown",
   "metadata": {},
   "source": [
    "<a href=#top>Back to Top</a>"
   ]
  }
 ],
 "metadata": {
  "celltoolbar": "Slideshow",
  "kernelspec": {
   "display_name": "Python 3",
   "language": "python",
   "name": "python3"
  },
  "language_info": {
   "codemirror_mode": {
    "name": "ipython",
    "version": 3
   },
   "file_extension": ".py",
   "mimetype": "text/x-python",
   "name": "python",
   "nbconvert_exporter": "python",
   "pygments_lexer": "ipython3",
   "version": "3.8.5"
  }
 },
 "nbformat": 4,
 "nbformat_minor": 2
}
